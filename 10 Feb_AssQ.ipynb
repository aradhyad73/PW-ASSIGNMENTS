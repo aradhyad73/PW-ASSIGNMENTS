{
 "cells": [
  {
   "cell_type": "markdown",
   "id": "b04c29da-5e96-4104-bc2d-674e611bef2a",
   "metadata": {},
   "source": [
    "## Assignment Data Science Masters (10-FEB-2023) : \n",
    "## aradhyad73@gmail.com\n",
    "## "
   ]
  },
  {
   "cell_type": "markdown",
   "id": "48e70ca5-64e6-4ff4-9ef4-670204d1b59f",
   "metadata": {},
   "source": [
    "Q1. Which function is used to open a file? What are the different modes of opening a file? Explain each mode \n",
    "of file opening.\n",
    "\n",
    "\n",
    "### Answer 1 :"
   ]
  },
  {
   "cell_type": "markdown",
   "id": "e983d8fa-e832-4786-80fc-76745e36f645",
   "metadata": {},
   "source": [
    "'open()' function is used to open a file. \n",
    "Example:"
   ]
  },
  {
   "cell_type": "code",
   "execution_count": null,
   "id": "76e81329-6263-4806-8155-e6a55313a0c2",
   "metadata": {},
   "outputs": [],
   "source": [
    "file = open(\"example.txt\", \"r\")"
   ]
  },
  {
   "cell_type": "code",
   "execution_count": null,
   "id": "17996397-3f25-4955-b6e7-a9b9e927c45c",
   "metadata": {},
   "outputs": [],
   "source": []
  },
  {
   "cell_type": "markdown",
   "id": "36709827-484d-4ef9-b985-703608232b65",
   "metadata": {},
   "source": [
    "Q2. Why close() function is used? Why is it important to close a file?\n",
    "\n",
    "### Answer 2 :"
   ]
  },
  {
   "cell_type": "markdown",
   "id": "ee61ef04-48c9-47f9-a7d7-656a51c37a10",
   "metadata": {},
   "source": [
    "The close() function or method is used to close a file that has been opened for reading or writing. It is important to close a file for several reasons:\n",
    "\n",
    "1.Resource Management\n",
    "\n",
    "2.Preventing Data Corruption\n",
    "\n",
    "3.File Locks\n",
    "\n",
    "4.Memory Usage"
   ]
  },
  {
   "cell_type": "code",
   "execution_count": null,
   "id": "7f16d04d-5bcd-4816-8296-6bfdded9e313",
   "metadata": {},
   "outputs": [],
   "source": []
  },
  {
   "cell_type": "markdown",
   "id": "20d0489d-b0d3-4a51-bb0b-4db3eb338e4f",
   "metadata": {},
   "source": [
    "Q3. Write a python program to create a text file. Write ‘I want to become a Data Scientist’ in that file. Then \n",
    "close the file. Open this file and read the content of the file.  \n",
    "\n",
    "### Answer 3:"
   ]
  },
  {
   "cell_type": "code",
   "execution_count": 2,
   "id": "56fc6a1a-c6d0-4fd9-9c0f-b65dcd90c455",
   "metadata": {},
   "outputs": [
    {
     "name": "stdout",
     "output_type": "stream",
     "text": [
      "I want to become a Data Scientist\n"
     ]
    }
   ],
   "source": [
    "# Step 1: Creating file and closing it :\n",
    "with open(\"data_scientist.txt\", \"w\") as file:\n",
    "    file.write(\"I want to become a Data Scientist\")\n",
    "\n",
    "# Step 2: Opening the file and reading its content:\n",
    "with open(\"data_scientist.txt\", \"r\") as file:\n",
    "    content = file.read()\n",
    "    print(content)\n"
   ]
  },
  {
   "cell_type": "code",
   "execution_count": null,
   "id": "f4dacb5b-e351-4a4d-9d9c-fe88e82614a0",
   "metadata": {},
   "outputs": [],
   "source": []
  },
  {
   "cell_type": "markdown",
   "id": "2f88e513-cb6b-435e-8296-ff33a1d6bbf7",
   "metadata": {},
   "source": [
    "Q4. Explain the following with python code: read(), readline() and readlines().\n",
    "\n",
    "\n",
    "### Answer 4:"
   ]
  },
  {
   "cell_type": "markdown",
   "id": "e94c52c1-078c-4930-94db-dcb8128e05d5",
   "metadata": {},
   "source": [
    "read(): The read() method is used to read the entire contents of a file as a single string. It reads from the current file position to the end of the file or up to a specified number of characters if provided.\n",
    "\n",
    "Example :"
   ]
  },
  {
   "cell_type": "code",
   "execution_count": 3,
   "id": "64d2c100-762e-49ff-96e1-9da9525c1a09",
   "metadata": {},
   "outputs": [
    {
     "name": "stdout",
     "output_type": "stream",
     "text": [
      "I want to become a Data Scientist\n"
     ]
    }
   ],
   "source": [
    "with open(\"data_scientist.txt\", \"r\") as file:\n",
    "    content = file.read()\n",
    "    print(content)\n"
   ]
  },
  {
   "cell_type": "code",
   "execution_count": null,
   "id": "742100bd-30e0-4d4e-a513-1ce3bbbe1622",
   "metadata": {},
   "outputs": [],
   "source": []
  },
  {
   "cell_type": "markdown",
   "id": "786577c2-d742-4150-b109-daecf4356ec4",
   "metadata": {},
   "source": [
    "readline(): The readline() method is used to read a single line from the file. It reads from the current file position until it encounters a newline character (\"\\n\") and returns that line as a string.\n",
    "\n",
    "Example :"
   ]
  },
  {
   "cell_type": "code",
   "execution_count": 6,
   "id": "41848b87-dc9a-4b29-af60-744c83d7e869",
   "metadata": {},
   "outputs": [
    {
     "name": "stdout",
     "output_type": "stream",
     "text": [
      "I want to become a Data Scientist\n"
     ]
    }
   ],
   "source": [
    "with open(\"data_scientist.txt\", \"r\") as file:\n",
    "    line = file.readline()\n",
    "    print(line)\n"
   ]
  },
  {
   "cell_type": "code",
   "execution_count": null,
   "id": "3284907c-0268-4073-835e-a96553dc5613",
   "metadata": {},
   "outputs": [],
   "source": []
  },
  {
   "cell_type": "markdown",
   "id": "de69101d-526b-4f9f-89ef-2833cb841b4f",
   "metadata": {},
   "source": [
    "readlines(): The readlines() method reads all the lines of a file and returns them as a list of strings, where each string represents a line from the file.\n",
    "\n",
    "Example :"
   ]
  },
  {
   "cell_type": "code",
   "execution_count": 7,
   "id": "dd0358e8-8f06-42d7-a44a-1d64c467e5ba",
   "metadata": {},
   "outputs": [
    {
     "name": "stdout",
     "output_type": "stream",
     "text": [
      "I want to become a Data Scientist\n"
     ]
    }
   ],
   "source": [
    "with open(\"data_scientist.txt\", \"r\") as file:\n",
    "    lines = file.readlines()\n",
    "    for line in lines:\n",
    "        print(line)\n"
   ]
  },
  {
   "cell_type": "code",
   "execution_count": null,
   "id": "c71704fb-b19b-4016-84ad-b7ae468d4815",
   "metadata": {},
   "outputs": [],
   "source": []
  },
  {
   "cell_type": "markdown",
   "id": "5c035a91-52ed-4a16-871a-8f88e2f0f272",
   "metadata": {},
   "source": [
    "Q5. Explain why with statement is used with open(). What is the advantage of using with statement and \n",
    "open() together?\n",
    "\n",
    "\n",
    "### Answer :"
   ]
  },
  {
   "cell_type": "markdown",
   "id": "cd366577-6517-4792-8f46-ef97d8003238",
   "metadata": {},
   "source": [
    "The with statement in Python is used with the open() function to create a context manager. The primary advantage of using with statement with open() is automatic resource management. When you use with, the file is automatically closed when you exit the with block, whether you exit normally or due to an exception. This ensures that the file is closed properly, preventing resource leaks and ensuring data integrity.\n",
    "\n",
    "Advantages:\n",
    "\n",
    "Automatic resource management: No need to explicitly call file.close().\n",
    "Cleaner and more readable code.\n",
    "Exception handling: Even if an exception occurs within the with block, the file will be closed correctly."
   ]
  },
  {
   "cell_type": "code",
   "execution_count": null,
   "id": "2043e807-84f3-4e12-afaf-5c4da5e3ca1c",
   "metadata": {},
   "outputs": [],
   "source": []
  },
  {
   "cell_type": "markdown",
   "id": "b24d2781-5579-4c6f-b7b7-f671b982ff27",
   "metadata": {},
   "source": [
    "Q6. Explain the write() and writelines() functions. Give a suitable example.\n",
    "\n",
    "\n",
    "### Answer 6 :"
   ]
  },
  {
   "cell_type": "markdown",
   "id": "1af7513b-57d5-462a-8e40-402ff32b5ef1",
   "metadata": {},
   "source": [
    "write(): The write() method is used to write a string to a file. It appends the specified string to the end of the file. If the file doesn't exist, it will be created.\n",
    "\n",
    "Example:"
   ]
  },
  {
   "cell_type": "code",
   "execution_count": 9,
   "id": "877c6519-f385-4a21-a1fe-c9d2d47caea9",
   "metadata": {},
   "outputs": [],
   "source": [
    "with open(\"output.txt\", \"w\") as file:\n",
    "    file.write(\"Hello, World!\\n\")\n",
    "    file.write(\"This is a test.\")\n"
   ]
  },
  {
   "cell_type": "markdown",
   "id": "e78a9cee-a269-4d93-802b-a1604ad542e3",
   "metadata": {},
   "source": [
    "writelines(): The writelines() method is used to write a list of strings to a file. It writes each string as a separate line in the file. You need to provide a list of strings as its argument.\n",
    "\n",
    "Example:"
   ]
  },
  {
   "cell_type": "code",
   "execution_count": 10,
   "id": "a2fc1786-2248-41a3-a8d2-947a0b55d460",
   "metadata": {},
   "outputs": [],
   "source": [
    "lines_to_write = [\"Line 1\\n\", \"Line 2\\n\", \"Line 3\\n\"]\n",
    "with open(\"output.txt\", \"w\") as file:\n",
    "    file.writelines(lines_to_write)\n"
   ]
  }
 ],
 "metadata": {
  "kernelspec": {
   "display_name": "Python 3 (ipykernel)",
   "language": "python",
   "name": "python3"
  },
  "language_info": {
   "codemirror_mode": {
    "name": "ipython",
    "version": 3
   },
   "file_extension": ".py",
   "mimetype": "text/x-python",
   "name": "python",
   "nbconvert_exporter": "python",
   "pygments_lexer": "ipython3",
   "version": "3.10.8"
  }
 },
 "nbformat": 4,
 "nbformat_minor": 5
}
