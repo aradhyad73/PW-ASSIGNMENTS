{
 "cells": [
  {
   "cell_type": "markdown",
   "id": "50675065-36aa-4893-90b4-0a86bffd2022",
   "metadata": {},
   "source": [
    "## Assignment Data Science Masters (29-FEB-2023) : \n",
    "## "
   ]
  },
  {
   "cell_type": "markdown",
   "id": "c63ecdd6-5f58-4aa1-82b4-d3b499dada5d",
   "metadata": {},
   "source": [
    "Q1. What are the characteristics of the tuples? Is tuple immutable? "
   ]
  },
  {
   "cell_type": "markdown",
   "id": "649e7725-4409-46b8-9c6a-79d3b3a4abf2",
   "metadata": {},
   "source": [
    "Answer 1 : \n",
    "\n",
    "The Characterstics of tuples are as follows :\n",
    "\n",
    "Tuples are indexed ,they are ordered , they are immutable ,they can contain duplicate items , in tubles elements can be accessed easily and they consume less memory.\n",
    "\n",
    "Yes, tuples are immutable, which means you cannot modify their elements once they are assigned."
   ]
  },
  {
   "cell_type": "raw",
   "id": "44aac4a9-3ab6-4e71-9c61-53e140658d90",
   "metadata": {},
   "source": [
    "----------------------------------------------------------------------------------------------------------------"
   ]
  },
  {
   "cell_type": "markdown",
   "id": "b7091bd4-ecf5-430f-b278-0a99fbd4c590",
   "metadata": {},
   "source": [
    "Q2. What are the two tuple methods in python? Give an example of each method. Give a reason why  tuples have only two in-built methods as compared to Lists. \n",
    "\n"
   ]
  },
  {
   "cell_type": "markdown",
   "id": "f2932c45-4223-4534-a6bc-0d8203b44920",
   "metadata": {},
   "source": [
    "Answer 2 : \n",
    "\n",
    "The two methods of tuples which are available in tuple are as follows:\n",
    "\n",
    "a) count() : This method returns the number of occurrences of a specified element in a tuple.\n",
    "b) index() : This method returns the index of the first occurrence of a specified element in a tuple.\n",
    "\n",
    "Tuples have fewer built-in methods compared to lists because tuples are immutable, meaning they cannot be modified."
   ]
  },
  {
   "cell_type": "code",
   "execution_count": 18,
   "id": "6d373133-5711-43aa-948c-a8899dd3bdc8",
   "metadata": {},
   "outputs": [],
   "source": [
    "#Example of count function\n",
    "tuple1=(1,2,3,4,6,8,9,2,3)"
   ]
  },
  {
   "cell_type": "code",
   "execution_count": 19,
   "id": "af03f897-2b29-4532-92c9-dfdcca8912b8",
   "metadata": {},
   "outputs": [
    {
     "name": "stdout",
     "output_type": "stream",
     "text": [
      "2\n"
     ]
    }
   ],
   "source": [
    "count = tuple1.count(2)\n",
    "print (count)"
   ]
  },
  {
   "cell_type": "code",
   "execution_count": 9,
   "id": "c3c6d169-8f4c-48fb-ae40-fda47d6cb218",
   "metadata": {},
   "outputs": [],
   "source": [
    "#Example of index function\n",
    "tuple1=(1,2,3,4,6,8,9,2,3)"
   ]
  },
  {
   "cell_type": "code",
   "execution_count": 10,
   "id": "78daf033-c09b-49ae-8614-52311bc35173",
   "metadata": {},
   "outputs": [
    {
     "name": "stdout",
     "output_type": "stream",
     "text": [
      "2\n"
     ]
    }
   ],
   "source": [
    "index = tuple1.index(3)\n",
    "print(index)"
   ]
  },
  {
   "cell_type": "raw",
   "id": "895a1f7a-a6e2-47b7-b029-6976e176cadf",
   "metadata": {},
   "source": [
    "----------------------------------------------------------------------------------------------------------------"
   ]
  },
  {
   "cell_type": "markdown",
   "id": "1a43771b-2ef5-4a7f-9936-dc3c07422714",
   "metadata": {},
   "source": [
    "Q3.  Which collection datatypes in python do not allow duplicate items? Write a code using a set to remove  duplicates from the given list. \n",
    "List = [1, 1, 1, 2, 1, 3, 1, 4, 2, 1, 2, 2, 2, 3, 2, 4, 3, 1, 3, 2, 3, 3, 3, 4, 4, 1, 4, 2, 4, 3, 4, 4] \n"
   ]
  },
  {
   "cell_type": "markdown",
   "id": "e8e670d2-3098-4518-8a9a-4e1bc47d8ce3",
   "metadata": {},
   "source": [
    "Answer 3 : \n",
    "\n",
    "The collection datatype in Python that does not allow duplicate items is a set. Sets store unique elements only. Here's the code to remove duplicates using a set:\n"
   ]
  },
  {
   "cell_type": "markdown",
   "id": "6c19f607-aa25-47ba-96e5-c02a3eba36b6",
   "metadata": {},
   "source": [
    "The collection datatype in Python that does not allow duplicate items is a set. Sets store unique elements only. Here's the code to remove duplicates using a set:\n"
   ]
  },
  {
   "cell_type": "code",
   "execution_count": 11,
   "id": "351d44b3-846e-4497-8dec-562a0eb5ca61",
   "metadata": {},
   "outputs": [
    {
     "name": "stdout",
     "output_type": "stream",
     "text": [
      "[1, 2, 3, 4]\n"
     ]
    }
   ],
   "source": [
    "my_list = [1, 1, 1, 2, 1, 3, 1, 4, 2, 1, 3, 4, 4, 1, 4, 2, 4, 3, 4, 4]\n",
    "unique_list = list(set(my_list))\n",
    "print(unique_list)"
   ]
  },
  {
   "cell_type": "raw",
   "id": "df6b90d0-e19d-410a-9e8e-82cd92feb73d",
   "metadata": {},
   "source": [
    "----------------------------------------------------------------------------------------------------------------"
   ]
  },
  {
   "cell_type": "markdown",
   "id": "e03380cc-853a-487e-bd03-e14ffaa77acd",
   "metadata": {},
   "source": [
    "Q4. Explain the difference between the union() and update() methods for a set. Give an example of  each method. "
   ]
  },
  {
   "cell_type": "markdown",
   "id": "f6031f63-553c-477b-964e-f03026d2ed52",
   "metadata": {},
   "source": [
    "Answer 4 : \n",
    "\n",
    "The difference between the union() and update() methods for a set is as follows:\n",
    "\n",
    "union() method  : This method returns a new set that contains all the unique elements from both sets (without modifying the original sets). It performs the union operation between two sets.\n",
    "\n",
    "update() method : This method modifies the original set by adding all the elements from another set into it. It performs an in-place union operation."
   ]
  },
  {
   "cell_type": "code",
   "execution_count": 20,
   "id": "4b0469e3-1e5e-47d9-8b9b-70206177f262",
   "metadata": {},
   "outputs": [
    {
     "name": "stdout",
     "output_type": "stream",
     "text": [
      "{1, 2, 3, 4, 5}\n"
     ]
    }
   ],
   "source": [
    "#example of union() :\n",
    "set1 = {1, 2, 3}\n",
    "set2 = {3, 4, 5}\n",
    "union_set = set1.union(set2)\n",
    "print(union_set)"
   ]
  },
  {
   "cell_type": "code",
   "execution_count": 21,
   "id": "76d5edf9-c4db-44e5-8078-6b2e1a224504",
   "metadata": {},
   "outputs": [
    {
     "name": "stdout",
     "output_type": "stream",
     "text": [
      "{1, 2, 3, 4, 5}\n"
     ]
    }
   ],
   "source": [
    "#example of update() :\n",
    "set1 = {1, 2, 3}\n",
    "set2 = {3, 4, 5}\n",
    "set1.update(set2)\n",
    "print(set1)"
   ]
  },
  {
   "cell_type": "raw",
   "id": "05091b0e-3a1e-41b2-8227-4ac8f143f146",
   "metadata": {},
   "source": [
    "----------------------------------------------------------------------------------------------------------------"
   ]
  },
  {
   "cell_type": "markdown",
   "id": "63353b63-895c-400d-b434-551b67d7efab",
   "metadata": {},
   "source": [
    "Q5. What is a dictionary? Give an example. Also, state whether a dictionary is ordered or unordered. "
   ]
  },
  {
   "cell_type": "markdown",
   "id": "d21b2e95-c18c-487f-9b4f-ddb27a5bade6",
   "metadata": {},
   "source": [
    "Answer 5 :\n",
    "\n",
    "A dictionary is a collection of key andvalue pairs enclosed in curly braces {} ,Keys in a dictionary must be unique and immutable, while values can be of any type. Dictionaries are unordered, meaning the elements do not have a specific order.\n",
    "\n",
    "example- \n",
    "student = {\"name\": 'John',\"age\": 20,\"major\": \"Computer Science\",\"gpa\": 3.8}\n",
    "\n",
    "In this example, the keys are 'name', 'age', 'major', and 'gpa', and their corresponding values are 'John', 20, 'Computer Science', and 3.8, respectively.\n"
   ]
  },
  {
   "cell_type": "raw",
   "id": "d9a9bbd9-7355-4e6f-9d40-1d08440b6044",
   "metadata": {},
   "source": [
    "----------------------------------------------------------------------------------------------------------------"
   ]
  },
  {
   "cell_type": "markdown",
   "id": "d61d1fd3-58e6-44b8-9269-a0234d3a7c91",
   "metadata": {},
   "source": [
    "Q6. Can we create a nested dictionary? If so, please give an example by creating a simple one-level  nested dictionary.\n",
    "Answer: \n",
    "\n",
    "Yes, we can create a nested dictionary in Python. A nested dictionary is a dictionary that contains another dictionary as its value or contains dictionaries as values for some of its keys. Here's an example of a simple one-level nested dictionary:\n",
    "example-\n",
    "\n",
    "employee = {'name': 'John Doe','age': 30,'department': {'name': 'HR','location': 'New York'}}\n",
    "\n",
    "In this example, the 'department' key holds another dictionary with keys 'name' and 'location' as its nested values."
   ]
  },
  {
   "cell_type": "raw",
   "id": "8bdab2ac-f33b-41dc-ae10-cf24afd2b9d1",
   "metadata": {},
   "source": [
    "----------------------------------------------------------------------------------------------------------------"
   ]
  },
  {
   "cell_type": "markdown",
   "id": "a0a987bd-3a5d-4656-aabb-1793a54c6a65",
   "metadata": {},
   "source": [
    "Q7. Using setdefault() method, create key named topics in the given dictionary and also add the value of \n",
    "the key as this list ['Python', 'Machine Learning’, 'Deep Learning']\n",
    "\n",
    "\n",
    "dict1 = {'language' : 'Python', 'course': 'Data Science Masters'}"
   ]
  },
  {
   "cell_type": "markdown",
   "id": "e90ab824-39db-49ff-afe6-46d24ceab303",
   "metadata": {},
   "source": [
    "Answer 7 :"
   ]
  },
  {
   "cell_type": "code",
   "execution_count": 22,
   "id": "b58a438e-f7af-4d97-9bc6-8e844592c3f3",
   "metadata": {},
   "outputs": [
    {
     "name": "stdout",
     "output_type": "stream",
     "text": [
      "{'language': 'Python', 'course': 'Data Science Masters', 'topics': ['Python', 'Machine Learning', 'Deep Learning']}\n"
     ]
    }
   ],
   "source": [
    "# Given dictionary\n",
    "dict1 = {'language': 'Python', 'course': 'Data Science Masters'}\n",
    "\n",
    "# Using setdefault() to create a new key 'topics' with a list as its value\n",
    "dict1.setdefault('topics', ['Python', 'Machine Learning', 'Deep Learning'])\n",
    "\n",
    "print(dict1)\n"
   ]
  },
  {
   "cell_type": "raw",
   "id": "1805d176-c8af-4ba3-a84a-83da97e50afe",
   "metadata": {},
   "source": [
    "----------------------------------------------------------------------------------------------------------------"
   ]
  },
  {
   "cell_type": "markdown",
   "id": "fcab97fb-626d-4924-85b5-f23f6273b0f8",
   "metadata": {},
   "source": [
    "Q8. What are the three view objects in dictionaries? Use the three in-built methods in python to display  these three view objects for the given dictionary. \n",
    "\n",
    "dict1 = {'Sport': 'Cricket' , 'Teams': ['India', 'Australia', 'England', 'South Africa', 'Sri Lanka', 'New Zealand']}"
   ]
  },
  {
   "cell_type": "markdown",
   "id": "487ec795-336f-4b2a-908e-de59c732a89d",
   "metadata": {},
   "source": [
    "Answer 8 :\n",
    "\n",
    "The three view objects in dictionaries are:\n",
    "\n",
    "keys()   method: This method returns a view object that contains all the keys of the dictionary.\n",
    "values() method: This method returns a view object that contains all the values of the dictionary.\n",
    "\n",
    "items()  method: This method returns a view object that contains all the key-value pairs of the dictionary as tuples.\n"
   ]
  },
  {
   "cell_type": "code",
   "execution_count": 23,
   "id": "29a08584-3716-4fa7-b338-5183c898e28e",
   "metadata": {},
   "outputs": [
    {
     "name": "stdout",
     "output_type": "stream",
     "text": [
      "dict_keys(['Sport', 'Teams'])\n"
     ]
    }
   ],
   "source": [
    "#Example of keys() method:\n",
    "dict1 = {'Sport': 'Cricket', 'Teams': ['India', 'Australia', 'England', 'South Africa', 'Sri Lanka', 'New Zealand']}\n",
    "keys_view = dict1.keys()\n",
    "print(keys_view)"
   ]
  },
  {
   "cell_type": "code",
   "execution_count": 24,
   "id": "ba4520a7-d047-4814-a6c5-51f249aa6d7e",
   "metadata": {},
   "outputs": [
    {
     "name": "stdout",
     "output_type": "stream",
     "text": [
      "dict_values(['Cricket', ['India', 'Australia', 'England', 'South Africa', 'Sri Lanka', 'New Zealand']])\n"
     ]
    }
   ],
   "source": [
    "#Example of values() method:\n",
    "dict1 = {'Sport': 'Cricket', 'Teams': ['India', 'Australia', 'England', 'South Africa', 'Sri Lanka', 'New Zealand']}\n",
    "values_view = dict1.values()\n",
    "print(values_view)"
   ]
  },
  {
   "cell_type": "code",
   "execution_count": 25,
   "id": "8b340d8b-0f4b-47e9-be2d-8f71805479b0",
   "metadata": {},
   "outputs": [
    {
     "name": "stdout",
     "output_type": "stream",
     "text": [
      "dict_items([('Sport', 'Cricket'), ('Teams', ['India', 'Australia', 'England', 'South Africa', 'Sri Lanka', 'New Zealand'])])\n"
     ]
    }
   ],
   "source": [
    "#Example of items() method:\n",
    "dict1 = {'Sport': 'Cricket', 'Teams': ['India', 'Australia', 'England', 'South Africa', 'Sri Lanka', 'New Zealand']}\n",
    "items_view = dict1.items()\n",
    "print(items_view)"
   ]
  },
  {
   "cell_type": "raw",
   "id": "c3289b00-be0e-44f6-a1d0-15ec66e2fa27",
   "metadata": {},
   "source": [
    "----------------------------------------------------------------------------------------------------------------"
   ]
  }
 ],
 "metadata": {
  "kernelspec": {
   "display_name": "Python 3 (ipykernel)",
   "language": "python",
   "name": "python3"
  },
  "language_info": {
   "codemirror_mode": {
    "name": "ipython",
    "version": 3
   },
   "file_extension": ".py",
   "mimetype": "text/x-python",
   "name": "python",
   "nbconvert_exporter": "python",
   "pygments_lexer": "ipython3",
   "version": "3.10.8"
  }
 },
 "nbformat": 4,
 "nbformat_minor": 5
}
