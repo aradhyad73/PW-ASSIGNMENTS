{
 "cells": [
  {
   "cell_type": "markdown",
   "id": "8635fae7-6953-4cc7-ba31-d902e546ef6a",
   "metadata": {},
   "source": [
    "## Assignment Data Science Masters (05-FEB-2023) : \n",
    "## aradhyad73@gmail.com\n",
    "## "
   ]
  },
  {
   "cell_type": "markdown",
   "id": "eac53a64-e135-4669-9185-4c54dfdfdc25",
   "metadata": {},
   "source": [
    "Q1. Explain Class and Object with respect to Object-Oriented Programming. Give a suitable example.\n",
    "\n",
    "### Answer 1:"
   ]
  },
  {
   "cell_type": "markdown",
   "id": "cc4890b2-0106-4f26-bcce-83ea6ef03dc6",
   "metadata": {},
   "source": [
    "## Class: \n",
    "A class is a blueprint or template for creating objects. It defines the attributes (data) and methods (functions) that the objects of that class will have. A class provides a way to create multiple objects with similar properties and behaviors.\n",
    "\n",
    "## Object: \n",
    "An object is an instance of a class. It's a concrete instantiation of the class's blueprint, with its own specific data and behavior. Objects represent real-world entities or concepts in your program.\n",
    "\n",
    "Example:"
   ]
  },
  {
   "cell_type": "code",
   "execution_count": 1,
   "id": "71f0d7e9-140e-4ba8-9f4e-36e2512cfc2a",
   "metadata": {},
   "outputs": [
    {
     "name": "stdout",
     "output_type": "stream",
     "text": [
      "Buddy is barking\n",
      "Max is barking\n"
     ]
    }
   ],
   "source": [
    "class Dog:\n",
    "    def __init__(self, name, age):\n",
    "        self.name = name\n",
    "        self.age = age\n",
    "    \n",
    "    def bark(self):\n",
    "        print(f\"{self.name} is barking\")\n",
    "\n",
    "# Creating objects (instances) of the Dog class\n",
    "dog1 = Dog(\"Buddy\", 3)\n",
    "dog2 = Dog(\"Max\", 5)\n",
    "\n",
    "dog1.bark()  # Output: Buddy is barking\n",
    "dog2.bark()  # Output: Max is barking\n"
   ]
  },
  {
   "cell_type": "code",
   "execution_count": null,
   "id": "af7def2a-21e9-463e-b228-1c5d4a2c34f6",
   "metadata": {},
   "outputs": [],
   "source": []
  },
  {
   "cell_type": "markdown",
   "id": "62feaae3-6966-4671-90c6-6f759547713c",
   "metadata": {},
   "source": [
    "Q2. Name the four pillars of OOPs.\n",
    "\n",
    "### Answer 2 :"
   ]
  },
  {
   "cell_type": "markdown",
   "id": "7fd0c642-9162-4cfb-afa0-a2634c7aefea",
   "metadata": {},
   "source": [
    "The four pillars of Object-Oriented Programming are:\n",
    "\n",
    "\n",
    "### Encapsulation: \n",
    "Bundling data (attributes) and methods (functions) that operate on the data into a single unit (class) to control access and interactions.\n",
    "\n",
    "### Abstraction: \n",
    "Simplifying complex reality by modeling classes based on real-world entities and their essential characteristics.\n",
    "\n",
    "### Inheritance: \n",
    "Creating new classes (subclasses) from existing classes (superclasses) to inherit attributes and behaviors. It promotes code reuse and supports hierarchical relationships.\n",
    "\n",
    "### Polymorphism: \n",
    "Providing a single interface to different types of data or objects, allowing different classes to be treated as instances of the same class through common methods."
   ]
  },
  {
   "cell_type": "code",
   "execution_count": null,
   "id": "29408b90-f975-435e-a7b1-294f94ef9987",
   "metadata": {},
   "outputs": [],
   "source": []
  },
  {
   "cell_type": "markdown",
   "id": "cce37a8b-cb61-459f-87d2-65e2ddbd1e85",
   "metadata": {},
   "source": [
    "Q3. Explain why the __init__() function is used. Give a suitable example\n",
    "\n",
    "### Answer 3 : "
   ]
  },
  {
   "cell_type": "markdown",
   "id": "a73ff74b-967c-4e60-83b2-e44de17e44e1",
   "metadata": {},
   "source": [
    "### The __ init __() function is a special method in Python classes that is automatically called when an object is created from the class. It initializes the object's attributes and performs any necessary setup.\n",
    "\n",
    "Example:"
   ]
  },
  {
   "cell_type": "code",
   "execution_count": 3,
   "id": "c844e15a-8c96-4333-8317-e7bd794be1fe",
   "metadata": {},
   "outputs": [
    {
     "name": "stdout",
     "output_type": "stream",
     "text": [
      "Toyota Camry 2022\n"
     ]
    }
   ],
   "source": [
    "class Car:\n",
    "    def __init__(self, make, model, year):\n",
    "        self.make = make\n",
    "        self.model = model\n",
    "        self.year = year\n",
    "\n",
    "car1 = Car(\"Toyota\", \"Camry\", 2022)\n",
    "print(car1.make, car1.model, car1.year) \n"
   ]
  },
  {
   "cell_type": "code",
   "execution_count": null,
   "id": "3989d523-1921-4bb7-af62-62f1cac092cc",
   "metadata": {},
   "outputs": [],
   "source": []
  },
  {
   "cell_type": "markdown",
   "id": "b1897e11-aee0-4d26-b722-c98cff3eeefa",
   "metadata": {},
   "source": [
    "Q4: Why self is used in OOPs?\n",
    "\n",
    "### Answer 4 :"
   ]
  },
  {
   "cell_type": "markdown",
   "id": "99edbc48-2256-458e-975f-8c5cbf48cc76",
   "metadata": {},
   "source": [
    "### In Object-Oriented Programming, 'self' is a reference to the instance of the class. It is used to access and manipulate the instance's attributes and methods within its own scope. By using self, you can distinguish between instance variables and local variables."
   ]
  },
  {
   "cell_type": "code",
   "execution_count": null,
   "id": "a8815c76-2f85-4568-8e06-a797f3712007",
   "metadata": {},
   "outputs": [],
   "source": []
  },
  {
   "cell_type": "markdown",
   "id": "d0722784-e86a-42c4-9d0c-e94b9dbe877e",
   "metadata": {},
   "source": [
    "Q5: What is inheritance? Give an example for each type of inheritance.\n",
    "\n",
    "### Answer 6 :"
   ]
  },
  {
   "cell_type": "markdown",
   "id": "0fbe4c09-4299-465a-a17e-93be83152853",
   "metadata": {},
   "source": [
    "Inheritance is a fundamental concept in OOP where a new class (subclass or derived class) is created based on an existing class (superclass or base class). The subclass inherits attributes and methods from the superclass, allowing code reuse and promoting the \"is-a\" relationship between classes.\n",
    "Types of inheritance:\n",
    "\n",
    "### Types of Inheritance"
   ]
  },
  {
   "cell_type": "markdown",
   "id": "e7b125b1-594e-4995-9658-48eb570a635d",
   "metadata": {},
   "source": [
    "## 1. Single Inheritance: \n",
    "\n",
    "Single inheritance enables a derived class to inherit properties from a single parent class, thus enabling code reusability and the addition of new features to existing code.\n",
    "\n",
    "### Example :"
   ]
  },
  {
   "cell_type": "code",
   "execution_count": 10,
   "id": "56faae08-2af3-4271-9316-2290ce824476",
   "metadata": {},
   "outputs": [
    {
     "name": "stdout",
     "output_type": "stream",
     "text": [
      "This function is in parent class.\n",
      "This function is in child class.\n"
     ]
    }
   ],
   "source": [
    "# Base class\n",
    "class Parent:\n",
    "\tdef func1(self):\n",
    "\t\tprint(\"This function is in parent class.\")\n",
    "\n",
    "# Derived class\n",
    "\n",
    "\n",
    "class Child(Parent):\n",
    "\tdef func2(self):\n",
    "\t\tprint(\"This function is in child class.\")\n",
    "\n",
    "\n",
    "# Driver's code\n",
    "object = Child()\n",
    "object.func1()\n",
    "object.func2()\n"
   ]
  },
  {
   "cell_type": "markdown",
   "id": "9b4ce082-4cbd-4295-8844-923b86c81380",
   "metadata": {},
   "source": [
    "## 2. Multiple Inheritance: \n",
    "\n",
    "When a class can be derived from more than one base class this type of inheritance is called multiple inheritances. In multiple inheritances, all the features of the base classes are inherited into the derived class. \n",
    "\n",
    "### Example :"
   ]
  },
  {
   "cell_type": "code",
   "execution_count": 11,
   "id": "f55ac3a1-d825-41ba-997a-47bf3d1f3cfe",
   "metadata": {},
   "outputs": [
    {
     "name": "stdout",
     "output_type": "stream",
     "text": [
      "Father : RAM\n",
      "Mother : SITA\n"
     ]
    }
   ],
   "source": [
    "# Base class1\n",
    "class Mother:\n",
    "\tmothername = \"\"\n",
    "\n",
    "\tdef mother(self):\n",
    "\t\tprint(self.mothername)\n",
    "\n",
    "# Base class2\n",
    "\n",
    "\n",
    "class Father:\n",
    "\tfathername = \"\"\n",
    "\n",
    "\tdef father(self):\n",
    "\t\tprint(self.fathername)\n",
    "\n",
    "# Derived class\n",
    "\n",
    "\n",
    "class Son(Mother, Father):\n",
    "\tdef parents(self):\n",
    "\t\tprint(\"Father :\", self.fathername)\n",
    "\t\tprint(\"Mother :\", self.mothername)\n",
    "\n",
    "\n",
    "# Driver's code\n",
    "s1 = Son()\n",
    "s1.fathername = \"RAM\"\n",
    "s1.mothername = \"SITA\"\n",
    "s1.parents()\n"
   ]
  },
  {
   "cell_type": "markdown",
   "id": "a3cde33d-6f18-498c-9eb5-dbaa7bda0b91",
   "metadata": {},
   "source": [
    "## 3. Multilevel Inheritance :\n",
    "In multilevel inheritance, features of the base class and the derived class are further inherited into the new derived class. This is similar to a relationship representing a child and a grandfather.\n",
    "\n",
    "### Example :"
   ]
  },
  {
   "cell_type": "code",
   "execution_count": 12,
   "id": "0c4f19fa-836b-45c3-b87f-7f3c19284cdf",
   "metadata": {},
   "outputs": [
    {
     "name": "stdout",
     "output_type": "stream",
     "text": [
      "Lal mani\n",
      "Grandfather name : Lal mani\n",
      "Father name : Rampal\n",
      "Son name : Prince\n"
     ]
    }
   ],
   "source": [
    "# Base class\n",
    "\n",
    "class Grandfather:\n",
    "\n",
    "\tdef __init__(self, grandfathername):\n",
    "\t\tself.grandfathername = grandfathername\n",
    "\n",
    "# Intermediate class\n",
    "\n",
    "\n",
    "class Father(Grandfather):\n",
    "\tdef __init__(self, fathername, grandfathername):\n",
    "\t\tself.fathername = fathername\n",
    "\n",
    "\t\t# invoking constructor of Grandfather class\n",
    "\t\tGrandfather.__init__(self, grandfathername)\n",
    "\n",
    "# Derived class\n",
    "\n",
    "\n",
    "class Son(Father):\n",
    "\tdef __init__(self, sonname, fathername, grandfathername):\n",
    "\t\tself.sonname = sonname\n",
    "\n",
    "\t\t# invoking constructor of Father class\n",
    "\t\tFather.__init__(self, fathername, grandfathername)\n",
    "\n",
    "\tdef print_name(self):\n",
    "\t\tprint('Grandfather name :', self.grandfathername)\n",
    "\t\tprint(\"Father name :\", self.fathername)\n",
    "\t\tprint(\"Son name :\", self.sonname)\n",
    "\n",
    "\n",
    "# Driver code\n",
    "s1 = Son('Prince', 'Rampal', 'Lal mani')\n",
    "print(s1.grandfathername)\n",
    "s1.print_name()\n"
   ]
  },
  {
   "cell_type": "markdown",
   "id": "94f3eb53-db2c-4676-bb03-27c1a003a493",
   "metadata": {},
   "source": [
    "## 4. Hierarchical Inheritance: \n",
    "When more than one derived class are created from a single base this type of inheritance is called hierarchical inheritance. In this program, we have a parent (base) class and two child (derived) classes.\n",
    "\n",
    "### Example :"
   ]
  },
  {
   "cell_type": "code",
   "execution_count": 13,
   "id": "5fad2035-b3c5-4c9f-885b-9aa160208363",
   "metadata": {},
   "outputs": [
    {
     "name": "stdout",
     "output_type": "stream",
     "text": [
      "This function is in parent class.\n",
      "This function is in child 1.\n",
      "This function is in parent class.\n",
      "This function is in child 2.\n"
     ]
    }
   ],
   "source": [
    "# Base class\n",
    "class Parent:\n",
    "\tdef func1(self):\n",
    "\t\tprint(\"This function is in parent class.\")\n",
    "\n",
    "# Derived class1\n",
    "\n",
    "\n",
    "class Child1(Parent):\n",
    "\tdef func2(self):\n",
    "\t\tprint(\"This function is in child 1.\")\n",
    "\n",
    "# Derivied class2\n",
    "\n",
    "\n",
    "class Child2(Parent):\n",
    "\tdef func3(self):\n",
    "\t\tprint(\"This function is in child 2.\")\n",
    "\n",
    "\n",
    "# Driver's code\n",
    "object1 = Child1()\n",
    "object2 = Child2()\n",
    "object1.func1()\n",
    "object1.func2()\n",
    "object2.func1()\n",
    "object2.func3()\n"
   ]
  }
 ],
 "metadata": {
  "kernelspec": {
   "display_name": "Python 3 (ipykernel)",
   "language": "python",
   "name": "python3"
  },
  "language_info": {
   "codemirror_mode": {
    "name": "ipython",
    "version": 3
   },
   "file_extension": ".py",
   "mimetype": "text/x-python",
   "name": "python",
   "nbconvert_exporter": "python",
   "pygments_lexer": "ipython3",
   "version": "3.10.8"
  }
 },
 "nbformat": 4,
 "nbformat_minor": 5
}
