{
 "cells": [
  {
   "cell_type": "markdown",
   "id": "c07e17f4-1ba5-42b6-9d97-463e4f51f769",
   "metadata": {},
   "source": [
    "## Assignment Data Science Masters (26-FEB-2023) : \n",
    "## aradhyad73@gmail.com\n",
    "## "
   ]
  },
  {
   "cell_type": "markdown",
   "id": "4bfda5a9-3133-4143-a2a9-1fae8f4684b6",
   "metadata": {},
   "source": [
    "Consider the below code to answer further questions:\n",
    "\n",
    "\n",
    "import numpy as np\n",
    "\n",
    "list_ = [ ‘1’ , ’2’ , ‘3’ , ‘4’ , ‘5’ ]\n",
    "\n",
    "array_list = np.array(object = list_)"
   ]
  },
  {
   "cell_type": "markdown",
   "id": "ce464242-dc3d-40ec-a04a-cc00dbf710c0",
   "metadata": {},
   "source": [
    "Q1. Data type difference between list_ and array_list\n",
    "python\n",
    "Answer 1: "
   ]
  },
  {
   "cell_type": "code",
   "execution_count": 2,
   "id": "9583a433-dc76-4f13-b3e8-72324cb46334",
   "metadata": {},
   "outputs": [
    {
     "name": "stdout",
     "output_type": "stream",
     "text": [
      "Data type of list_:  <class 'str'>\n",
      "Data type of array_list:  <U1\n"
     ]
    }
   ],
   "source": [
    "\n",
    "import numpy as np\n",
    "\n",
    "list_ = ['1', '2', '3', '4', '5']\n",
    "\n",
    "# Convert list to numpy array\n",
    "array_list = np.array(object=list_)\n",
    "\n",
    "# Print data types\n",
    "print(\"Data type of list_: \", type(list_[0]))\n",
    "print(\"Data type of array_list: \", array_list.dtype)"
   ]
  },
  {
   "cell_type": "code",
   "execution_count": null,
   "id": "13b6be04-bfb4-4671-97ab-af8f318af5c6",
   "metadata": {},
   "outputs": [],
   "source": []
  },
  {
   "cell_type": "markdown",
   "id": "729cc35e-2a43-4cf6-848a-c9872dc1faa9",
   "metadata": {},
   "source": [
    "Q2. Data type of each element in list_ and array_list\n",
    "Answer:"
   ]
  },
  {
   "cell_type": "code",
   "execution_count": 3,
   "id": "7fa6ab34-6e48-4a26-afe7-2d69ce7f7e91",
   "metadata": {},
   "outputs": [
    {
     "name": "stdout",
     "output_type": "stream",
     "text": [
      "Data types of elements in list_:  [<class 'str'>, <class 'str'>, <class 'str'>, <class 'str'>, <class 'str'>]\n",
      "Data types of elements in array_list:  int64\n"
     ]
    }
   ],
   "source": [
    "import numpy as np\n",
    "\n",
    "list_ = ['1', '2', '3', '4', '5']\n",
    "\n",
    "# Convert list to numpy array with dtype=int\n",
    "array_list = np.array(object=list_, dtype=int)\n",
    "\n",
    "# Print data types of each element\n",
    "print(\"Data types of elements in list_: \", [type(item) for item in list_])\n",
    "print(\"Data types of elements in array_list: \", array_list.dtype)\n"
   ]
  },
  {
   "cell_type": "code",
   "execution_count": null,
   "id": "3f1ef123-4452-4fd2-8fef-dfef867eccdf",
   "metadata": {},
   "outputs": [],
   "source": []
  },
  {
   "cell_type": "markdown",
   "id": "6b94847b-826c-4f89-a921-712469a55e75",
   "metadata": {},
   "source": [
    "Q3. Data type difference after explicitly setting dtype=int\n",
    "Answer:"
   ]
  },
  {
   "cell_type": "code",
   "execution_count": 4,
   "id": "1ac77a89-3647-4d25-9030-41e65f18560b",
   "metadata": {},
   "outputs": [
    {
     "name": "stdout",
     "output_type": "stream",
     "text": [
      "Data types of elements in list_:  [<class 'str'>, <class 'str'>, <class 'str'>, <class 'str'>, <class 'str'>]\n",
      "Data types of elements in array_list:  int64\n"
     ]
    }
   ],
   "source": [
    "import numpy as np\n",
    "\n",
    "list_ = ['1', '2', '3', '4', '5']\n",
    "\n",
    "# Convert list to numpy array with dtype=int\n",
    "array_list = np.array(object=list_, dtype=int)\n",
    "\n",
    "# Print data types of each element\n",
    "print(\"Data types of elements in list_: \", [type(item) for item in list_])\n",
    "print(\"Data types of elements in array_list: \", array_list.dtype)\n"
   ]
  },
  {
   "cell_type": "code",
   "execution_count": null,
   "id": "b66fba22-8b40-4acf-b056-4b0bd1a2c86b",
   "metadata": {},
   "outputs": [],
   "source": []
  },
  {
   "cell_type": "markdown",
   "id": "f78403f4-841e-4434-9cec-2ed93a6fef55",
   "metadata": {},
   "source": [
    "Q4. Characteristics of num_array\n",
    "Answer :"
   ]
  },
  {
   "cell_type": "code",
   "execution_count": 5,
   "id": "6aecd309-baa9-4aee-95ac-8b577cc6b377",
   "metadata": {},
   "outputs": [
    {
     "name": "stdout",
     "output_type": "stream",
     "text": [
      "Shape of num_array:  (2, 3)\n",
      "Size of num_array:  6\n"
     ]
    }
   ],
   "source": [
    "import numpy as np\n",
    "\n",
    "num_list = [[1, 2, 3], [4, 5, 6]]\n",
    "\n",
    "num_array = np.array(object=num_list)\n",
    "\n",
    "# Shape of num_array\n",
    "print(\"Shape of num_array: \", num_array.shape)\n",
    "\n",
    "# Size of num_array\n",
    "print(\"Size of num_array: \", num_array.size)\n"
   ]
  },
  {
   "cell_type": "code",
   "execution_count": null,
   "id": "ff758ec0-722d-4056-a118-bbdfdd650e73",
   "metadata": {},
   "outputs": [],
   "source": []
  },
  {
   "cell_type": "markdown",
   "id": "7da67837-4780-4c04-bd61-c645813a512b",
   "metadata": {},
   "source": [
    "Q5. Create a numpy array of zeros with shape (3,3)\n",
    "answer :"
   ]
  },
  {
   "cell_type": "code",
   "execution_count": 6,
   "id": "bb4c04eb-bfdb-44f4-b8d8-ddcc23bc7486",
   "metadata": {},
   "outputs": [
    {
     "name": "stdout",
     "output_type": "stream",
     "text": [
      "Zeros array of shape (3,3):\n",
      " [[0. 0. 0.]\n",
      " [0. 0. 0.]\n",
      " [0. 0. 0.]]\n"
     ]
    }
   ],
   "source": [
    "import numpy as np\n",
    "\n",
    "zeros_array = np.zeros((3, 3))\n",
    "print(\"Zeros array of shape (3,3):\\n\", zeros_array)\n"
   ]
  },
  {
   "cell_type": "code",
   "execution_count": null,
   "id": "ef43f05b-6056-409f-aa2f-7164594c1e9b",
   "metadata": {},
   "outputs": [],
   "source": []
  },
  {
   "cell_type": "markdown",
   "id": "a0a69bb3-63a1-4246-a42d-e88c2f473602",
   "metadata": {},
   "source": [
    "Q6. Create an identity matrix of shape (5,5)\n",
    "Answer:"
   ]
  },
  {
   "cell_type": "code",
   "execution_count": 7,
   "id": "57448285-f514-42f2-8f33-cf8a617d311a",
   "metadata": {},
   "outputs": [
    {
     "name": "stdout",
     "output_type": "stream",
     "text": [
      "Identity matrix of shape (5,5):\n",
      " [[1. 0. 0. 0. 0.]\n",
      " [0. 1. 0. 0. 0.]\n",
      " [0. 0. 1. 0. 0.]\n",
      " [0. 0. 0. 1. 0.]\n",
      " [0. 0. 0. 0. 1.]]\n"
     ]
    }
   ],
   "source": [
    "import numpy as np\n",
    "\n",
    "identity_matrix = np.eye(5)\n",
    "print(\"Identity matrix of shape (5,5):\\n\", identity_matrix)\n"
   ]
  }
 ],
 "metadata": {
  "kernelspec": {
   "display_name": "Python 3 (ipykernel)",
   "language": "python",
   "name": "python3"
  },
  "language_info": {
   "codemirror_mode": {
    "name": "ipython",
    "version": 3
   },
   "file_extension": ".py",
   "mimetype": "text/x-python",
   "name": "python",
   "nbconvert_exporter": "python",
   "pygments_lexer": "ipython3",
   "version": "3.10.8"
  }
 },
 "nbformat": 4,
 "nbformat_minor": 5
}
