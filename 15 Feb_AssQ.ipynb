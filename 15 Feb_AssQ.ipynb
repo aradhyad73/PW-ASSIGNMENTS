{
 "cells": [
  {
   "cell_type": "markdown",
   "id": "c9e24f41-6863-4de0-af32-923ed4b52b08",
   "metadata": {},
   "source": [
    "## Assignment Data Science Masters (15-FEB-2023) : \n",
    "## aradhyad73@gmail.com\n",
    "## "
   ]
  },
  {
   "cell_type": "markdown",
   "id": "3ce861df-ab1a-445a-a277-efc4fb845f97",
   "metadata": {},
   "source": [
    "### Answer 1 :\n",
    "\n",
    "Multiprocessing in Python is a module and programming technique that allows you to create and manage multiple processes in parallel, enabling concurrent execution of tasks on multi-core processors. It is part of the Python standard library and provides a way to utilize multiple CPU cores to perform tasks simultaneously. Each process runs in its own separate memory space\n",
    "\n",
    "#### Here's why multiprocessing in Python is useful:\n",
    "\n",
    "### Parallelism: \n",
    "Multiprocessing allows you to take advantage of multi-core CPUs by running multiple processes concurrently. \n",
    "\n",
    "\n",
    "### Improved Efficiency: \n",
    "When you have tasks that can be executed independently, such as processing multiple data files or performing calculations on different datasets, multiprocessing can distribute the workload across multiple processes, reducing the overall execution time.\n",
    "\n",
    "\n",
    "### Ease of Use: \n",
    "Python's multiprocessing module provides a high-level API for creating and managing processes, making it relatively easy to parallelize your code compared to lower-level threading or multiprocessing libraries."
   ]
  },
  {
   "cell_type": "code",
   "execution_count": null,
   "id": "206b6bd5-38cd-46cc-bb00-9c666989be15",
   "metadata": {},
   "outputs": [],
   "source": []
  },
  {
   "cell_type": "markdown",
   "id": "b08e41e7-5bc9-46f5-b521-6cd3a5a17f1a",
   "metadata": {},
   "source": [
    "### Answer 2:\n",
    "\n",
    "Multiprocessing and multithreading are both techniques for achieving concurrency in a program, but they differ in how they create and manage concurrent tasks. Here are the key differences between multiprocessing and multithreading:\n",
    "\n",
    "## 1. Processes vs. Threads:\n",
    "\n",
    "### Multiprocessing:-\n",
    "In multiprocessing, separate processes are created to execute tasks concurrently. Each process has its own memory space, Python interpreter, and resources. This means that processes are more isolated from each other and do not share memory by default.\n",
    "### Multithreading: \n",
    "Multithreading involves creating multiple threads within a single process. Threads share the same memory space and resources of the parent process. This can make it easier to share data between threads but also requires careful synchronization to avoid data races and other concurrency issues.\n",
    "\n",
    "\n",
    "## 2. Parallelism:-\n",
    "\n",
    "### Multiprocessing: \n",
    "Multiprocessing can achieve true parallelism by utilizing multiple CPU cores. Each process runs independently on a separate core, allowing for simultaneous execution of tasks.\n",
    "### Multithreading: \n",
    "Multithreading, in Python, is subject to the Global Interpreter Lock (GIL), which prevents multiple threads from executing Python code simultaneously. As a result, multithreading is not as effective at utilizing multiple CPU cores for CPU-bound tasks. It's better suited for I/O-bound tasks where threads can be blocked waiting for external resources."
   ]
  },
  {
   "cell_type": "code",
   "execution_count": null,
   "id": "06027932-c2b1-4e18-aadc-cf4f26aa0001",
   "metadata": {},
   "outputs": [],
   "source": []
  },
  {
   "cell_type": "markdown",
   "id": "499f23fa-5210-4146-9cf6-47b5634278f2",
   "metadata": {},
   "source": [
    "### Answer 3 :"
   ]
  },
  {
   "cell_type": "code",
   "execution_count": 2,
   "id": "de65a319-d31c-43a3-ab64-0d6728174fb0",
   "metadata": {},
   "outputs": [
    {
     "name": "stdout",
     "output_type": "stream",
     "text": [
      "Child process is running.\n",
      "Child process has completed.\n"
     ]
    }
   ],
   "source": [
    "import multiprocessing\n",
    "\n",
    "def worker_function():\n",
    "    \"\"\"This function will be executed by the child process.\"\"\"\n",
    "    print(\"Child process is running.\")\n",
    "\n",
    "if __name__ == \"__main__\":\n",
    "    # Create a multiprocessing Process object\n",
    "    child_process = multiprocessing.Process(target=worker_function)\n",
    "\n",
    "    # Start the child process\n",
    "    child_process.start()\n",
    "\n",
    "    # Wait for the child process to complete (optional)\n",
    "    child_process.join()\n",
    "\n",
    "    # Check if the child process is alive (optional)\n",
    "    if child_process.is_alive():\n",
    "        print(\"Child process is still running.\")\n",
    "    else:\n",
    "        print(\"Child process has completed.\")\n"
   ]
  },
  {
   "cell_type": "code",
   "execution_count": null,
   "id": "e1da0966-ee31-48d9-8187-15c5bd959395",
   "metadata": {},
   "outputs": [],
   "source": []
  },
  {
   "cell_type": "markdown",
   "id": "8f6751c0-7968-47dd-aa01-d112b141d36f",
   "metadata": {},
   "source": [
    "### Answer 4:\n",
    "\n",
    "In Python's multiprocessing module, a multiprocessing pool is a high-level construct that provides a convenient way to parallelize the execution of a function across multiple processes. It is particularly useful when you have a collection of data or tasks that can be processed independently and in parallel. The primary purpose of a multiprocessing pool is to distribute these tasks among a specified number of worker processes, allowing you to efficiently utilize multiple CPU cores and achieve parallelism."
   ]
  },
  {
   "cell_type": "code",
   "execution_count": null,
   "id": "204b0384-91f4-49a8-98d2-4d3c8fdf0983",
   "metadata": {},
   "outputs": [],
   "source": []
  },
  {
   "cell_type": "markdown",
   "id": "df51b136-34f6-43f3-b576-ba7b25203d56",
   "metadata": {},
   "source": [
    "### Answer 5 :\n",
    "\n",
    "Here's how you can create a pool of worker processes:"
   ]
  },
  {
   "cell_type": "code",
   "execution_count": 3,
   "id": "11a4a234-d3e0-4e3d-a39c-3dfac2516dd9",
   "metadata": {
    "tags": []
   },
   "outputs": [
    {
     "name": "stdout",
     "output_type": "stream",
     "text": [
      "[1, 4, 9, 16, 25, 36, 49, 64]\n"
     ]
    }
   ],
   "source": [
    "import multiprocessing\n",
    "\n",
    "# Define a function that will be executed by the worker processes\n",
    "def worker_function(x):\n",
    "    return x * x\n",
    "\n",
    "if __name__ == \"__main__\":\n",
    "    # Create a multiprocessing pool with a specified number of worker processes (e.g., 4)\n",
    "    num_processes = 4\n",
    "    pool = multiprocessing.Pool(processes=num_processes)\n",
    "    \n",
    "    # Define a list of data to be processed in parallel\n",
    "    data = [1, 2, 3, 4, 5, 6, 7, 8]\n",
    "    \n",
    "    # Use the map method to apply the worker function to the data using the pool\n",
    "    results = pool.map(worker_function, data)\n",
    "    \n",
    "    # Close the pool to prevent further task submission\n",
    "    pool.close()\n",
    "    \n",
    "    # Wait for all worker processes to complete\n",
    "    pool.join()\n",
    "    \n",
    "    # Print the results\n",
    "    print(results)\n"
   ]
  },
  {
   "cell_type": "code",
   "execution_count": null,
   "id": "665fe9c4-cbb1-42d3-ae68-bc66b43cd735",
   "metadata": {
    "tags": []
   },
   "outputs": [],
   "source": []
  },
  {
   "cell_type": "markdown",
   "id": "b0811a62-c21c-4cd5-a850-d0d62cb6222a",
   "metadata": {},
   "source": [
    "### Answer 6 :\n",
    "\n",
    "To create four processes, each printing a different number using the multiprocessing module in Python, you can follow this example:"
   ]
  },
  {
   "cell_type": "code",
   "execution_count": 4,
   "id": "41e49150-9652-46b8-b38a-1160d21e291e",
   "metadata": {},
   "outputs": [
    {
     "name": "stdout",
     "output_type": "stream",
     "text": [
      "Process 1: My number is 1Process 2: My number is 2Process 4: My number is 4Process 3: My number is 3\n",
      "\n",
      "\n",
      "\n"
     ]
    }
   ],
   "source": [
    "import multiprocessing\n",
    "\n",
    "def print_number(number):\n",
    "    \"\"\"Print a given number.\"\"\"\n",
    "    print(f\"Process {number}: My number is {number}\")\n",
    "\n",
    "if __name__ == \"__main__\":\n",
    "    # Create a list of numbers, one for each process\n",
    "    numbers = [1, 2, 3, 4]\n",
    "    \n",
    "    # Create a pool of 4 processes\n",
    "    pool = multiprocessing.Pool(processes=4)\n",
    "    \n",
    "    # Use the map method to distribute the numbers to processes\n",
    "    pool.map(print_number, numbers)\n",
    "    \n",
    "    # Close the pool and wait for all processes to complete\n",
    "    pool.close()\n",
    "    pool.join()\n"
   ]
  }
 ],
 "metadata": {
  "kernelspec": {
   "display_name": "Python 3 (ipykernel)",
   "language": "python",
   "name": "python3"
  },
  "language_info": {
   "codemirror_mode": {
    "name": "ipython",
    "version": 3
   },
   "file_extension": ".py",
   "mimetype": "text/x-python",
   "name": "python",
   "nbconvert_exporter": "python",
   "pygments_lexer": "ipython3",
   "version": "3.10.8"
  }
 },
 "nbformat": 4,
 "nbformat_minor": 5
}
