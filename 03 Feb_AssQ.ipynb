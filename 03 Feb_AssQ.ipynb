{
 "cells": [
  {
   "cell_type": "raw",
   "id": "27ff82be-549c-4245-84da-3691c73a1e8a",
   "metadata": {},
   "source": [
    "Q1. Which keyword is used to create a function? Create a function to return a list of odd numbers in the range of 1 to 25."
   ]
  },
  {
   "cell_type": "markdown",
   "id": "4e0a536f-318c-4beb-bfdd-0871f3938c68",
   "metadata": {},
   "source": [
    "ANSWER 1 : -\n",
    "\n",
    "The keyword used to create a function in Python is def.\n",
    "\n",
    "Here's a function to return a list of odd numbers in the range of 1 to 25:"
   ]
  },
  {
   "cell_type": "code",
   "execution_count": 8,
   "id": "a49415ca-1b52-4272-b5a3-46f1237c5429",
   "metadata": {},
   "outputs": [
    {
     "name": "stdout",
     "output_type": "stream",
     "text": [
      "[1, 3, 5, 7, 9, 11, 13, 15, 17, 19, 21, 23, 25]\n"
     ]
    }
   ],
   "source": [
    "def get_odd_numbers():\n",
    "    return [num for num in range(1, 26) if num % 2 != 0]\n",
    "\n",
    "# Test the function\n",
    "odd_numbers_list = get_odd_numbers()\n",
    "print(odd_numbers_list)\n"
   ]
  },
  {
   "cell_type": "raw",
   "id": "6c60045c-6648-4b20-925d-7d4d44b6f826",
   "metadata": {},
   "source": [
    "----------------------------------------------------------------------------------------------------------------"
   ]
  },
  {
   "cell_type": "raw",
   "id": "688c3103-8b8b-479c-9e0c-04fbdfeae608",
   "metadata": {
    "tags": []
   },
   "source": [
    "Q2. Why *args and **kwargs are used in some functions? Create a function each for *args and **kwargs to demonstrate their use."
   ]
  },
  {
   "cell_type": "markdown",
   "id": "3eba16c6-8946-4f7f-9ea3-d2bbbe669a49",
   "metadata": {},
   "source": [
    "ANSWER 2 : -  \n",
    "\n",
    "*args and **kwargs are used in Python functions to handle a variable number of arguments.\n",
    "\n",
    "*args: It allows the function to accept a variable number of non-keyword (positional) arguments, which are passed as a tuple.\n",
    "\n",
    "**kwargs: It allows the function to accept a variable number of keyword arguments (key-value pairs), which are passed as a dictionary.\n",
    "\n",
    "Here are the functions to demonstrate the use of *args and **kwargs:"
   ]
  },
  {
   "cell_type": "code",
   "execution_count": 9,
   "id": "d72885bc-4a24-41a1-8c96-d6b6dcfd72e4",
   "metadata": {},
   "outputs": [
    {
     "name": "stdout",
     "output_type": "stream",
     "text": [
      "Sum of numbers: 15\n",
      "name: John\n",
      "age: 30\n",
      "occupation: Engineer\n"
     ]
    }
   ],
   "source": [
    "# *args example\n",
    "def sum_args(*args):\n",
    "    result = sum(args)\n",
    "    return result\n",
    "\n",
    "# Test the functions\n",
    "print(\"Sum of numbers:\", sum_args(1, 2, 3, 4, 5))\n",
    "\n",
    "\n",
    "# **kwargs example\n",
    "def print_kwargs(**kwargs):\n",
    "    for key, value in kwargs.items():\n",
    "        print(f\"{key}: {value}\")\n",
    "        \n",
    "# Test the functions\n",
    "\n",
    "print_kwargs(name=\"John\", age=30, occupation=\"Engineer\")\n",
    "\n"
   ]
  },
  {
   "cell_type": "raw",
   "id": "a7868601-a924-4841-bab1-2ef1bfaa8714",
   "metadata": {},
   "source": [
    "----------------------------------------------------------------------------------------------------------------"
   ]
  },
  {
   "cell_type": "raw",
   "id": "2d416418-b001-4013-b27a-c0927c32678b",
   "metadata": {},
   "source": [
    "Q3: What is an iterator in python? Name the method used to initialize the iterator object and the method used for iteration. Use these methods to print the first five elements of the given list [2, 4, 6, 8, 10, 12, 14, 16, 18, 20]."
   ]
  },
  {
   "cell_type": "markdown",
   "id": "5f75bfd7-23e7-4e54-a982-37fa1af65966",
   "metadata": {},
   "source": [
    "Answer 3 :\n",
    "    \n",
    "An iterator in Python is an object that allows you to iterate (loop) over a collection of items, one at a time.\n",
    "\n",
    "To create an iterator object, you can use the iter() method, and for iteration, you can use the next() method.\n",
    "\n",
    "Here's how you can use them:"
   ]
  },
  {
   "cell_type": "code",
   "execution_count": 10,
   "id": "dc4c8fef-9b38-4d8e-9518-600abb52ca41",
   "metadata": {},
   "outputs": [
    {
     "name": "stdout",
     "output_type": "stream",
     "text": [
      "2\n",
      "4\n",
      "6\n",
      "8\n",
      "10\n"
     ]
    }
   ],
   "source": [
    "my_list = [2, 4, 6, 8, 10, 12, 14, 16, 18, 20]\n",
    "iterator = iter(my_list)\n",
    "\n",
    "for _ in range(5):\n",
    "    element = next(iterator)\n",
    "    print(element)\n"
   ]
  },
  {
   "cell_type": "raw",
   "id": "11e4fe39-c2f1-4cae-aa5c-6f5191d4acac",
   "metadata": {},
   "source": [
    "----------------------------------------------------------------------------------------------------------------"
   ]
  },
  {
   "cell_type": "raw",
   "id": "f006c732-7e81-4bc2-a225-1cb5d8edb572",
   "metadata": {},
   "source": [
    "Q4: What is a generator function in python? Why is the yield keyword used? Give an example of a generator function."
   ]
  },
  {
   "cell_type": "markdown",
   "id": "a76ed83d-f787-49df-ad93-a8cf2bc839b6",
   "metadata": {},
   "source": [
    "Answer 4 :\n",
    "\n",
    "A generator function in Python is a special type of function that returns an iterator called a generator. It allows you to iterate over a sequence of values without creating the entire sequence in memory. The yield keyword is used to yield values one at a time, suspending the function's state and allowing it to resume from where it left off.\n",
    "\n",
    "Here's an example of a generator function that generates the Fibonacci sequence:"
   ]
  },
  {
   "cell_type": "code",
   "execution_count": 11,
   "id": "bc6919fd-b8a7-42ed-8418-a91872d798cb",
   "metadata": {},
   "outputs": [
    {
     "name": "stdout",
     "output_type": "stream",
     "text": [
      "0\n",
      "1\n",
      "1\n",
      "2\n",
      "3\n",
      "5\n",
      "8\n",
      "13\n",
      "21\n",
      "34\n"
     ]
    }
   ],
   "source": [
    "def fibonacci_generator():\n",
    "    a, b = 0, 1\n",
    "    while True:\n",
    "        yield a\n",
    "        a, b = b, a + b\n",
    "\n",
    "fibonacci = fibonacci_generator()\n",
    "for _ in range(10):\n",
    "    print(next(fibonacci))\n"
   ]
  },
  {
   "cell_type": "raw",
   "id": "e2f42ced-1e2d-413a-82e2-cce7aff43b2a",
   "metadata": {},
   "source": [
    "----------------------------------------------------------------------------------------------------------------"
   ]
  },
  {
   "cell_type": "raw",
   "id": "cdc31472-5ad2-471b-b004-fe33595a25da",
   "metadata": {},
   "source": [
    "Q5: Create a generator function for prime numbers less than 1000. Use the next() method to print the first 20 prime numbers."
   ]
  },
  {
   "cell_type": "markdown",
   "id": "39e662bc-7457-449d-82ed-0b53965d681a",
   "metadata": {},
   "source": [
    "Answer 5 :\n",
    "    \n",
    "Here's a generator function that generates prime numbers less than 1000:"
   ]
  },
  {
   "cell_type": "code",
   "execution_count": 12,
   "id": "cc94c32f-779e-4f44-ae52-0643050483f0",
   "metadata": {},
   "outputs": [
    {
     "name": "stdout",
     "output_type": "stream",
     "text": [
      "2\n",
      "3\n",
      "5\n",
      "7\n",
      "11\n",
      "13\n",
      "17\n",
      "19\n",
      "23\n",
      "29\n",
      "31\n",
      "37\n",
      "41\n",
      "43\n",
      "47\n",
      "53\n",
      "59\n",
      "61\n",
      "67\n",
      "71\n"
     ]
    }
   ],
   "source": [
    "def is_prime(num):\n",
    "    if num <= 1:\n",
    "        return False\n",
    "    for i in range(2, int(num ** 0.5) + 1):\n",
    "        if num % i == 0:\n",
    "            return False\n",
    "    return True\n",
    "\n",
    "def prime_generator():\n",
    "    num = 2\n",
    "    while True:\n",
    "        if is_prime(num):\n",
    "            yield num\n",
    "        num += 1\n",
    "\n",
    "prime_gen = prime_generator()\n",
    "for _ in range(20):\n",
    "    print(next(prime_gen))\n"
   ]
  },
  {
   "cell_type": "code",
   "execution_count": null,
   "id": "a3e2e536-5ae6-4bad-8c43-f4ebdaf48eca",
   "metadata": {},
   "outputs": [],
   "source": []
  }
 ],
 "metadata": {
  "kernelspec": {
   "display_name": "Python 3 (ipykernel)",
   "language": "python",
   "name": "python3"
  },
  "language_info": {
   "codemirror_mode": {
    "name": "ipython",
    "version": 3
   },
   "file_extension": ".py",
   "mimetype": "text/x-python",
   "name": "python",
   "nbconvert_exporter": "python",
   "pygments_lexer": "ipython3",
   "version": "3.10.8"
  }
 },
 "nbformat": 4,
 "nbformat_minor": 5
}
