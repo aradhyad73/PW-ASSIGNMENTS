{
 "cells": [
  {
   "cell_type": "markdown",
   "id": "4cbf07c2-8b18-438e-84da-9ff6e433eeac",
   "metadata": {},
   "source": [
    "## Assignment Data Science Masters (06-MAR-2023) : \n",
    "## aradhyad73@gmail.com\n",
    "## "
   ]
  },
  {
   "cell_type": "markdown",
   "id": "745ca45b-4abb-4d38-bda1-fe5737f861b7",
   "metadata": {},
   "source": [
    "Q1. What is Statistics?\n",
    "\n",
    "Answer:"
   ]
  },
  {
   "cell_type": "markdown",
   "id": "ab1bbec5-722a-4581-ac54-0ccab3e60659",
   "metadata": {},
   "source": [
    "#### Statistics is a branch of mathematics that involves the collection, analysis, interpretation, presentation, and organization of data. It provides methods to summarize and make inferences from data, helping in decision-making and understanding underlying patterns or trends. Statistics is used in a wide range of fields, including economics, biology, engineering, social sciences, and many others."
   ]
  },
  {
   "cell_type": "code",
   "execution_count": null,
   "id": "da95db9a-91b6-4664-8b15-63556e528414",
   "metadata": {},
   "outputs": [],
   "source": []
  },
  {
   "cell_type": "markdown",
   "id": "29d0db3e-81de-491c-a478-03aa9004a020",
   "metadata": {},
   "source": [
    "Q2. Define the different types of statistics and give an example of when each type might be used.\n",
    "\n",
    "Answer:"
   ]
  },
  {
   "cell_type": "markdown",
   "id": "880a1734-6a8e-453e-99bc-f1a9aaec5e0f",
   "metadata": {},
   "source": [
    "### Statistics can be broadly categorized into two main types:\n",
    "\n",
    "### 1. Descriptive Statistics\n",
    "Definition: Descriptive statistics involve methods for summarizing and organizing data. They provide simple summaries about the sample and the measures. This includes calculating measures of central tendency (mean, median, mode) and measures of variability (range, variance, standard deviation).\n",
    "Example: Suppose a teacher wants to summarize the test scores of a class. They might use descriptive statistics to calculate the average score (mean), the score that appears most frequently (mode), and the spread of scores (standard deviation).\n",
    "### 2. Inferential Statistics\n",
    "Definition: Inferential statistics involve methods that allow us to make generalizations or predictions about a population based on a sample of data. This includes hypothesis testing, confidence intervals, and regression analysis.\n",
    "Example: If a political analyst wants to predict the outcome of an election, they might conduct a poll (sample) and use inferential statistics to estimate the overall population's voting behavior, and test hypotheses about voter preferences."
   ]
  },
  {
   "cell_type": "code",
   "execution_count": null,
   "id": "31f5f669-a386-4e60-b6c4-7cb4d85e6280",
   "metadata": {},
   "outputs": [],
   "source": []
  },
  {
   "cell_type": "markdown",
   "id": "253a1abd-f273-4105-954b-231313c9f7ef",
   "metadata": {},
   "source": [
    "Q3.  What are the different types of data and how do they differ from each other? Provide an example of\n",
    "each type of data.\n",
    "\n",
    "Answer:"
   ]
  },
  {
   "cell_type": "markdown",
   "id": "990a0400-5020-4668-af38-239b536abcdd",
   "metadata": {},
   "source": [
    "#### Data can be classified into different types based on their characteristics. The primary categories are Qualitative (Categorical) Data and Quantitative (Numerical) Data. Here’s a detailed explanation of each type:\n",
    "\n",
    "## 1. Qualitative Data (Categorical Data)\n",
    "Qualitative data describes categories or groups and is non-numeric. It provides information about qualities or characteristics.\n",
    "\n",
    "Types of Qualitative Data:\n",
    "Nominal Data: Represents categories without a natural order or ranking.\n",
    "\n",
    "Example: Colors of cars (red, blue, green). There’s no inherent ranking among these categories.\n",
    "Ordinal Data: Represents categories with a natural order or ranking but the intervals between categories are not necessarily equal.\n",
    "\n",
    "Example: Customer satisfaction ratings (very unsatisfied, unsatisfied, neutral, satisfied, very satisfied). Here, the order matters, but the difference between each rating may not be uniform.\n",
    "\n",
    "\n",
    "## 2. Quantitative Data (Numerical Data)\n",
    "Quantitative data represents numerical values and can be used for mathematical calculations.\n",
    "\n",
    "#### Types of Quantitative Data:\n",
    "\n",
    "\n",
    "### 1.Discrete Data: Consists of distinct, countable values. These are often whole numbers.\n",
    "\n",
    "Example: Number of students in a class (25 students). You can count them, and they can’t be fractions.\n",
    "\n",
    "\n",
    "### 2.Continuous Data: Consists of measurable quantities that can take on an infinite number of values within a given range. It can be divided into smaller units.\n",
    "\n",
    "Example: Height of a person (170.5 cm). Height can be measured with great precision and can take on an infinite number of values within a range."
   ]
  },
  {
   "cell_type": "code",
   "execution_count": null,
   "id": "c432b277-e34e-48cc-9e96-1a6f92ac4e6f",
   "metadata": {},
   "outputs": [],
   "source": []
  },
  {
   "cell_type": "markdown",
   "id": "43caf2fb-435c-4284-ace1-1a1cc54aae6a",
   "metadata": {},
   "source": [
    "Q4. Categorise the following datasets with respect to quantitative and qualitative data types:\n",
    "\n",
    "(i)\tGrading in exam: A+, A, B+, B, C+, C, D, E\n",
    "\n",
    "(ii)\tColour of mangoes: yellow, green, orange, red\n",
    "\n",
    "(iii)\tHeight data of a class: [178.9, 179, 179.5, 176, 177.2, 178.3, 175.8,...]\n",
    "\n",
    "(iv)\tNumber of mangoes exported by a farm: [500, 600, 478, 672, …]\n",
    "\n",
    "Answer :\n",
    "\n"
   ]
  },
  {
   "cell_type": "markdown",
   "id": "7b6d5620-9bbb-4061-9181-2e7a350a2da7",
   "metadata": {},
   "source": [
    "#### Let's categorize the given datasets with respect to quantitative and qualitative data types:\n",
    "\n",
    "### (i) Grading in exam: A+, A, B+, B, C+, C, D, E\n",
    "\n",
    "\n",
    "Type: Qualitative Data\n",
    "Sub-type: Ordinal Data\n",
    "Reason: The grades represent categories with a natural order or ranking (e.g., A+ is higher than A, which is higher than B+, etc.), but the differences between these categories are not uniformly measurable.\n",
    "\n",
    "\n",
    "### (ii) Colour of mangoes: yellow, green, orange, red\n",
    "Type: Qualitative Data\n",
    "Sub-type: Nominal Data\n",
    "Reason: The colors represent categories without any inherent order or ranking among them. The categories are simply labels.\n",
    "\n",
    "\n",
    "\n",
    "### (iii) Height data of a class: [178.9, 179, 179.5, 176, 177.2, 178.3, 175.8,...]\n",
    "Type: Quantitative Data\n",
    "Sub-type: Continuous Data\n",
    "Reason: Height is measured and can take on an infinite number of values within a range. The values can be represented with precision and can be divided into smaller units.\n",
    "\n",
    "\n",
    "\n",
    "### (iv) Number of mangoes exported by a farm: [500, 600, 478, 672, …]\n",
    "Type: Quantitative Data\n",
    "Sub-type: Discrete Data\n",
    "Reason: The number of mangoes is a countable quantity with distinct values. You cannot have a fraction of a mango in this context, making it discrete."
   ]
  },
  {
   "cell_type": "code",
   "execution_count": null,
   "id": "88daedeb-f7b3-429a-bbcd-ac8e6d54d1cc",
   "metadata": {},
   "outputs": [],
   "source": []
  },
  {
   "cell_type": "markdown",
   "id": "5e355ed5-9fea-485d-8b47-7c613d2c8e13",
   "metadata": {},
   "source": [
    "Q5. Explain the concept of levels of measurement and give an example of a variable for each level.\n",
    "\n",
    "Answer:"
   ]
  },
  {
   "cell_type": "markdown",
   "id": "efb35228-8dda-4c4a-adfd-08c8bd92be5e",
   "metadata": {},
   "source": [
    "Levels of measurement describe the nature of data and determine what statistical analysis is appropriate. There are four main levels of measurement:\n",
    "\n",
    "### Nominal Level:\n",
    "\n",
    "Definition: Data at the nominal level are categorical and represent categories or groups without any inherent order or ranking.\n",
    "Example: Types of fruit (apple, orange, banana). There is no meaningful order among these categories.\n",
    "\n",
    "\n",
    "\n",
    "### Ordinal Level:\n",
    "\n",
    "Definition: Data at the ordinal level represent categories with a meaningful order or ranking, but the intervals between categories are not necessarily equal.\n",
    "Example: Education levels (high school, bachelor's, master's, doctorate). There is a clear order, but the difference between each level is not quantifiable.\n",
    "\n",
    "\n",
    "\n",
    "### Interval Level:\n",
    "\n",
    "Definition: Data at the interval level have meaningful intervals between values, but there is no true zero point. The differences between values are consistent, and addition/subtraction are meaningful.\n",
    "Example: Temperature in Celsius (20°C, 30°C, 40°C). Differences between temperatures are consistent, but 0°C does not represent a true absence of temperature.\n",
    "\n",
    "\n",
    "\n",
    "### Ratio Level:\n",
    "\n",
    "Definition: Data at the ratio level have meaningful intervals and a true zero point. Both addition/subtraction and multiplication/division are meaningful.\n",
    "Example: Weight (50 kg, 60 kg, 70 kg). Differences are meaningful, and a weight of 0 kg represents a true absence of weight."
   ]
  },
  {
   "cell_type": "code",
   "execution_count": null,
   "id": "6b6bd2e2-59df-49df-9412-0bbfdad0751d",
   "metadata": {},
   "outputs": [],
   "source": []
  },
  {
   "cell_type": "markdown",
   "id": "331d206f-a4d1-4cf8-bb6b-f3f2eb4ed8e4",
   "metadata": {},
   "source": [
    "Q6. Why is it important to understand the level of measurement when analyzing data? Provide an\n",
    "example to illustrate your answer.\n",
    "\n",
    "Answer:"
   ]
  },
  {
   "cell_type": "markdown",
   "id": "abd966d6-26f2-4af2-91ca-e27f3ab90ae3",
   "metadata": {},
   "source": [
    "Understanding the level of measurement is crucial because it determines which statistical methods are appropriate and how data should be interpreted. For example:\n",
    "\n",
    "Example: Suppose you have data on customer satisfaction rated as \"very unsatisfied,\" \"unsatisfied,\" \"neutral,\" \"satisfied,\" and \"very satisfied.\" This is ordinal data. You can use median and mode to describe it, but you should not compute means or standard deviations, as the intervals between ratings are not equal.\n",
    "In contrast, for ratio data such as \"total sales in dollars,\" you can calculate the mean, median, and standard deviation, and perform more complex analyses like regression."
   ]
  },
  {
   "cell_type": "code",
   "execution_count": null,
   "id": "31b7afd7-b77b-45f6-9679-ea211d2de823",
   "metadata": {},
   "outputs": [],
   "source": []
  },
  {
   "cell_type": "markdown",
   "id": "88d5a704-9261-43d9-a478-3e06e0b6e964",
   "metadata": {},
   "source": [
    "Q7. How nominal data type is different from ordinal data type.\n",
    "\n",
    "Answer 7 :"
   ]
  },
  {
   "cell_type": "markdown",
   "id": "1d39fbb5-e23b-4755-b992-c99f0c52baa3",
   "metadata": {},
   "source": [
    "### Nominal Data:\n",
    "\n",
    "Characteristics: Categories without a specific order or ranking. Each category is distinct and mutually exclusive.\n",
    "Example: Eye color (blue, green, brown). There's no inherent order among these categories.\n",
    "\n",
    "\n",
    "### Ordinal Data:\n",
    "\n",
    "Characteristics: Categories with a meaningful order or ranking, but intervals between categories are not uniform or quantifiable.\n",
    "Example: Customer satisfaction ratings (very unsatisfied, unsatisfied, neutral, satisfied, very satisfied). The order matters, but the difference between levels is not precisely defined."
   ]
  },
  {
   "cell_type": "code",
   "execution_count": null,
   "id": "0d1dcbfb-d799-491a-acc7-a536a983a3fb",
   "metadata": {},
   "outputs": [],
   "source": []
  },
  {
   "cell_type": "markdown",
   "id": "f0973f7f-32f0-4974-8236-00b528f5c940",
   "metadata": {},
   "source": [
    "Q8. Which type of plot can be used to display data in terms of range?\n",
    "\n",
    "Answer 8:"
   ]
  },
  {
   "cell_type": "markdown",
   "id": "d868e8df-b7af-40ee-a79d-b59a70be0994",
   "metadata": {},
   "source": [
    "## Box Plot: \n",
    "A box plot (or whisker plot) is used to display the range of data, including the median, quartiles, and potential outliers. It provides a visual summary of the distribution and variability of the data."
   ]
  },
  {
   "cell_type": "code",
   "execution_count": null,
   "id": "8103097d-aca7-407d-895e-eff5db1a171d",
   "metadata": {},
   "outputs": [],
   "source": []
  },
  {
   "cell_type": "markdown",
   "id": "a1f24199-12db-4d47-9527-e92868cf0e9f",
   "metadata": {},
   "source": [
    "Q9. Describe the difference between descriptive and inferential statistics. Give an example of each\n",
    "type of statistics and explain how they are used.\n",
    "\n",
    "Answer :"
   ]
  },
  {
   "cell_type": "markdown",
   "id": "607bdbda-d282-4862-9cf8-8022ac5c7238",
   "metadata": {},
   "source": [
    "### Descriptive Statistics:\n",
    "\n",
    "Definition: Descriptive statistics summarize and describe the features of a dataset.\n",
    "Example: Calculating the average salary of employees in a company. This provides a summary measure that describes the central tendency of the dataset.\n",
    "\n",
    "\n",
    "### Inferential Statistics:\n",
    "\n",
    "Definition: Inferential statistics use sample data to make generalizations or predictions about a population.\n",
    "Example: Conducting a survey to estimate the average salary of all employees in a large corporation based on a sample of employees. This helps in making predictions or inferences about the entire population based on the sample data."
   ]
  },
  {
   "cell_type": "code",
   "execution_count": null,
   "id": "b0cd2ff4-8a50-41b7-a276-15879a0a899d",
   "metadata": {},
   "outputs": [],
   "source": []
  },
  {
   "cell_type": "markdown",
   "id": "f7ca838e-2e34-4d0a-ba6b-007fca74fb0a",
   "metadata": {},
   "source": [
    "Q10. What are some common measures of central tendency and variability used in statistics? Explain\n",
    "how each measure can be used to describe a dataset.\n",
    "\n",
    "Answer:"
   ]
  },
  {
   "cell_type": "markdown",
   "id": "ff7f1a70-a608-4e81-a871-378b082b6204",
   "metadata": {},
   "source": [
    "### Measures of Central Tendency:\n",
    "\n",
    "## Mean: \n",
    "The average value of a dataset. It is calculated by summing all values and dividing by the number of values. Useful for datasets with symmetric distributions.\n",
    "Example: Average test score of students.\n",
    "\n",
    "\n",
    "## Median: \n",
    "The middle value when the data is ordered. It divides the dataset into two equal halves. Useful for skewed distributions or datasets with outliers.\n",
    "Example: Median household income.\n",
    "\n",
    "\n",
    "## Mode: \n",
    "The most frequently occurring value in a dataset. Useful for categorical data or when identifying the most common value.\n",
    "Example: Most common shoe size in a survey.\n",
    "Measures of Variability:\n",
    "\n",
    "## Range:\n",
    "The difference between the maximum and minimum values in a dataset. It gives a quick sense of the spread but is sensitive to outliers.\n",
    "Example: Range of temperatures recorded over a week.\n",
    "\n",
    "\n",
    "## Variance:\n",
    "The average of the squared differences from the mean. It provides a measure of how much the values deviate from the mean.\n",
    "Example: Variance of test scores among students.\n",
    "\n",
    "\n",
    "## Standard Deviation: \n",
    "The square root of the variance. It represents the average amount of variability from the mean and is more interpretable than variance.\n",
    "Example: Standard deviation of daily sales figures in a month."
   ]
  }
 ],
 "metadata": {
  "kernelspec": {
   "display_name": "Python 3 (ipykernel)",
   "language": "python",
   "name": "python3"
  },
  "language_info": {
   "codemirror_mode": {
    "name": "ipython",
    "version": 3
   },
   "file_extension": ".py",
   "mimetype": "text/x-python",
   "name": "python",
   "nbconvert_exporter": "python",
   "pygments_lexer": "ipython3",
   "version": "3.10.8"
  }
 },
 "nbformat": 4,
 "nbformat_minor": 5
}
