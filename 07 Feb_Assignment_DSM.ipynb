{
 "cells": [
  {
   "cell_type": "markdown",
   "id": "c09c8900-3842-426b-98a9-eeb631cf693a",
   "metadata": {},
   "source": [
    "## Assignment Data Science Masters (06-FEB-2023) : \n",
    "## aradhyad73@gmail.com\n",
    "## "
   ]
  },
  {
   "cell_type": "markdown",
   "id": "a179b224-d46d-43dc-a810-030388c5eda9",
   "metadata": {},
   "source": [
    "Q1. You are writing code for a company. The requirement of the company is that you create a python \n",
    "function that will check whether the password entered by the user is correct or not. The function should \n",
    "take the password as input and return the string “Valid Password” if the entered password follows the \n",
    "below-given password guidelines else it should return “Invalid Password”.\n",
    "\n",
    "\n",
    "Note: \n",
    "\n",
    "1. The Password should contain at least two uppercase letters and at least two lowercase letters.\n",
    "2. The Password should contain at least a number and three special characters.\n",
    "3. The length of the password should be 10 characters long.\n",
    "\n",
    "### Answer 1 :"
   ]
  },
  {
   "cell_type": "code",
   "execution_count": 26,
   "id": "b9706660-3099-4386-b424-96c0df57a743",
   "metadata": {},
   "outputs": [
    {
     "name": "stdout",
     "output_type": "stream",
     "text": [
      "Valid Password\n",
      "Valid Password\n",
      "Invalid Password\n",
      "Invalid Password\n",
      "Invalid Password\n",
      "Invalid Password\n",
      "Valid Password\n"
     ]
    }
   ],
   "source": [
    "import re\n",
    "\n",
    "def check_password(password):\n",
    "    if len(password) != 10:\n",
    "        return \"Invalid Password\"\n",
    "    \n",
    "    uppercase_count = len(re.findall(r'[A-Z]', password))\n",
    "    lowercase_count = len(re.findall(r'[a-z]', password))\n",
    "    digit_count = len(re.findall(r'[0-9]', password))\n",
    "    special_count = len(re.findall(r'[!@#$%^&*()-_+=]', password))\n",
    "    \n",
    "    if uppercase_count >= 2 and lowercase_count >= 2 and digit_count >= 1 and special_count >= 3:\n",
    "        return \"Valid Password\"\n",
    "    else:\n",
    "        return \"Invalid Password\"\n",
    "\n",
    "# Test the function with examples\n",
    "print(check_password(\"Abcd123@XY\"))       # Valid Password\n",
    "print(check_password(\"aBcD123@xy\"))       # Valid Password\n",
    "print(check_password(\"Abcd123@XYZ\"))      # Invalid Password\n",
    "print(check_password(\"Abcdefg123@\"))      # Invalid Password (special characters)\n",
    "print(check_password(\"ABCD123@xyz\"))      # Invalid Password (lowercase count)\n",
    "print(check_password(\"Abcde123@#$\"))      # Invalid Password (uppercase count)\n",
    "print(check_password(\"Abc123@XYz\"))       # Valid Password\n",
    "\n"
   ]
  },
  {
   "cell_type": "code",
   "execution_count": null,
   "id": "5b9d01ca-e9e0-48e7-88d4-ebae389f741b",
   "metadata": {},
   "outputs": [],
   "source": []
  },
  {
   "cell_type": "markdown",
   "id": "4c82d82b-1722-4817-98ba-84bea8cbfe24",
   "metadata": {},
   "source": [
    "### Answer 2 :"
   ]
  },
  {
   "cell_type": "code",
   "execution_count": null,
   "id": "36f91b53-c38a-45fa-ae99-99c7947dfe50",
   "metadata": {},
   "outputs": [],
   "source": []
  },
  {
   "cell_type": "code",
   "execution_count": 46,
   "id": "4600266b-a902-4902-99bc-116d3b0388ec",
   "metadata": {},
   "outputs": [
    {
     "name": "stdout",
     "output_type": "stream",
     "text": [
      "['cherry']\n"
     ]
    }
   ],
   "source": [
    "#A (Using lambda Function)\n",
    "strings = [\"apple\", \"banana\", \"cherry\", \"orange\"]\n",
    "starts_with_c = filter(lambda s: s.startswith('c'), strings)\n",
    "print(list(starts_with_c))  # Output: ['cherry']\n"
   ]
  },
  {
   "cell_type": "code",
   "execution_count": 15,
   "id": "407c64b0-cba3-411b-a3bc-27668fa199c9",
   "metadata": {},
   "outputs": [
    {
     "name": "stdout",
     "output_type": "stream",
     "text": [
      "True\n",
      "False\n",
      "False\n"
     ]
    }
   ],
   "source": [
    "#Check if the string is numeric (using )\n",
    "def is_numeric(s):\n",
    "    return s.isdigit()\n",
    "\n",
    "# Test cases\n",
    "print(is_numeric(\"123\"))   # Should print True\n",
    "print(is_numeric(\"abc\"))   # Should print False\n",
    "print(is_numeric(\"1a2b3\")) # Should print False\n"
   ]
  },
  {
   "cell_type": "code",
   "execution_count": 17,
   "id": "880393a3-b2c8-4a9e-9ac6-2415ae6d7a17",
   "metadata": {},
   "outputs": [
    {
     "name": "stdout",
     "output_type": "stream",
     "text": [
      "('orange', 80)\n",
      "('mango', 99)\n",
      "('grapes', 1000)\n"
     ]
    }
   ],
   "source": [
    "# Sort the list of tuples based on quantity:\n",
    "\n",
    "fruits = [(\"mango\", 99), (\"orange\", 80), (\"grapes\", 1000)]\n",
    "\n",
    "sorted_fruits = sorted(fruits, key=lambda x: x[1])\n",
    "\n",
    "# Print the sorted list\n",
    "for fruit in sorted_fruits:\n",
    "    print(fruit)\n"
   ]
  },
  {
   "cell_type": "code",
   "execution_count": 19,
   "id": "ed4db29a-5d1c-42d9-ada7-d68d04dbafb1",
   "metadata": {},
   "outputs": [
    {
     "name": "stdout",
     "output_type": "stream",
     "text": [
      "[1, 4, 9, 16, 25, 36, 49, 64, 81, 100]\n"
     ]
    }
   ],
   "source": [
    "#Find the squares of numbers from 1 to 10 using map function:\n",
    "numbers = range(1, 11)\n",
    "\n",
    "squares = list(map(lambda x: x**2, numbers))\n",
    "\n",
    "print(squares)\n"
   ]
  },
  {
   "cell_type": "code",
   "execution_count": 21,
   "id": "539bd8e6-9037-451c-b968-f554cbbb7185",
   "metadata": {},
   "outputs": [
    {
     "name": "stdout",
     "output_type": "stream",
     "text": [
      "[1.0, 1.2599210498948732, 1.4422495703074083, 1.5874010519681994, 1.7099759466766968, 1.8171205928321397, 1.912931182772389, 2.0, 2.080083823051904, 2.154434690031884]\n"
     ]
    }
   ],
   "source": [
    "#cube root of numbers from 1 to 10 using list comprehension\n",
    "\n",
    "numbers = range(1, 11)\n",
    "\n",
    "cube_roots = [num ** (1/3) for num in numbers]\n",
    "\n",
    "print(cube_roots)\n"
   ]
  },
  {
   "cell_type": "code",
   "execution_count": 23,
   "id": "3dc04ad0-b701-4134-ac95-8029b139b2e4",
   "metadata": {},
   "outputs": [
    {
     "name": "stdout",
     "output_type": "stream",
     "text": [
      "True\n",
      "False\n",
      "True\n",
      "True\n",
      "False\n"
     ]
    }
   ],
   "source": [
    "#Check if a given number is even:\n",
    "def is_even(number):\n",
    "    return number % 2 == 0\n",
    "\n",
    "# Test cases\n",
    "print(is_even(4))   # Should print True\n",
    "print(is_even(7))   # Should print False\n",
    "print(is_even(0))   # Should print True\n",
    "print(is_even(-2))  # Should print True\n",
    "print(is_even(-1))  # Should print False\n"
   ]
  },
  {
   "cell_type": "code",
   "execution_count": 24,
   "id": "e7556cfe-68ed-449c-8aed-c65be985cad2",
   "metadata": {},
   "outputs": [
    {
     "name": "stdout",
     "output_type": "stream",
     "text": [
      "[1, 3, 5, 7, 9]\n"
     ]
    }
   ],
   "source": [
    "# Filter odd numbers from the given list (using filter function):\n",
    "numbers = [1, 2, 3, 4, 5, 6, 7, 8, 9, 10]\n",
    "\n",
    "odd_numbers = list(filter(lambda x: x % 2 != 0, numbers))\n",
    "\n",
    "print(odd_numbers)\n"
   ]
  },
  {
   "cell_type": "code",
   "execution_count": 25,
   "id": "1e952e46-199e-40b7-9571-a2e4f600fc42",
   "metadata": {},
   "outputs": [
    {
     "name": "stdout",
     "output_type": "stream",
     "text": [
      "Positive numbers: [1, 2, 3, 4, 5, 6]\n",
      "Negative numbers: [-1, -2, -3, -4, -5]\n"
     ]
    }
   ],
   "source": [
    "#Sort a list of integers into positive and negative integers lists (using list comprehensions):\n",
    "numbers = [1, 2, 3, 4, 5, 6, -1, -2, -3, -4, -5, 0]\n",
    "\n",
    "positive_numbers = [num for num in numbers if num > 0]\n",
    "negative_numbers = [num for num in numbers if num < 0]\n",
    "\n",
    "print(\"Positive numbers:\", positive_numbers)\n",
    "print(\"Negative numbers:\", negative_numbers)\n"
   ]
  }
 ],
 "metadata": {
  "kernelspec": {
   "display_name": "Python 3 (ipykernel)",
   "language": "python",
   "name": "python3"
  },
  "language_info": {
   "codemirror_mode": {
    "name": "ipython",
    "version": 3
   },
   "file_extension": ".py",
   "mimetype": "text/x-python",
   "name": "python",
   "nbconvert_exporter": "python",
   "pygments_lexer": "ipython3",
   "version": "3.10.8"
  }
 },
 "nbformat": 4,
 "nbformat_minor": 5
}
