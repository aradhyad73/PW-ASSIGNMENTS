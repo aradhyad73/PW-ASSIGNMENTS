{
 "cells": [
  {
   "cell_type": "markdown",
   "id": "29b78d37-426e-4388-9a48-8f932fb3d160",
   "metadata": {},
   "source": [
    "## Assignment Data Science Masters (16-FEB-2023) : \n",
    "## aradhyad73@gmail.com\n",
    "## "
   ]
  },
  {
   "cell_type": "markdown",
   "id": "6141754d-396f-4276-a1df-516e0c168705",
   "metadata": {},
   "source": [
    "Q1. What is a database? Differentiate between SQL and NoSQL databases.\n",
    "\n",
    "### Answer 1:"
   ]
  },
  {
   "cell_type": "markdown",
   "id": "be310eae-e325-47cb-bc8c-933917c08c7d",
   "metadata": {},
   "source": [
    "A database is a structured collection of data that is organized and stored in a way that allows for efficient retrieval, management, and manipulation of that data. Databases are essential for storing and managing vast amounts of information in various applications, from simple to complex, such as websites, financial systems, customer relationship management (CRM) systems, and more.\n",
    "\n",
    "SQL (Structured Query Language) and NoSQL (Not Only SQL) are two broad categories of database management systems, each with its own characteristics and use cases:\n",
    "\n",
    "\n",
    "### SQL Databases:\n",
    "\n",
    "1.SQL databases are relational databases that use a structured schema to organize and store data. They are based on a table-based model, where data is stored in rows and columns.\n",
    "\n",
    "2.SQL databases are best suited for applications with complex querying and reporting needs, transactions, and where data relationships are well-defined, such as traditional business applications.\n",
    "\n",
    "3.Examples of SQL databases include MySQL, PostgreSQL, Oracle, SQL Server, and SQLite.\n",
    "\n",
    "\n",
    "### NoSQL Databases:\n",
    "\n",
    "1.NoSQL databases are non-relational databases that do not rely on a fixed schema. They are designed to handle unstructured or semi-structured data, making them more flexible for certain use cases.\n",
    "\n",
    "2.NoSQL databases are typically horizontally scalable, allowing them to handle large amounts of data and high traffic loads with ease.\n",
    "\n",
    "3.Common types of NoSQL databases include document-oriented (e.g., MongoDB), key-value stores (e.g., Redis), column-family stores (e.g., Apache Cassandra), and graph databases (e.g., Neo4j).\n"
   ]
  },
  {
   "cell_type": "code",
   "execution_count": null,
   "id": "9af34c95-e873-4547-ae52-a7995f78746d",
   "metadata": {},
   "outputs": [],
   "source": []
  },
  {
   "cell_type": "markdown",
   "id": "80441f89-8ac0-491b-9be3-03e81e7f98ff",
   "metadata": {},
   "source": [
    "Q2. What is DDL? Explain why CREATE, DROP, ALTER, and TRUNCATE are used with an example.\n",
    "\n",
    "\n",
    "### Answer 2 :"
   ]
  },
  {
   "cell_type": "markdown",
   "id": "cf400d84-f0ae-47a5-a27b-91fa02f23472",
   "metadata": {},
   "source": [
    "DDL stands for Data Definition Language, which is a subset of SQL (Structured Query Language) used for defining and managing the structure of a database and its objects. DDL statements are responsible for creating, altering, and deleting database objects like tables, indexes, and constraints. \n",
    "\n",
    "Here are explanations and examples for some common DDL statements:\n",
    "\n",
    "\n"
   ]
  },
  {
   "cell_type": "markdown",
   "id": "31feb66a-0108-4264-88d7-62722f4cedca",
   "metadata": {},
   "source": [
    "### 1. CREATE:\n",
    "\n",
    "The CREATE statement is used to create new database objects, such as tables, indexes, or views.\n",
    "\n",
    "### 2. DROP:\n",
    "\n",
    "The DROP statement is used to delete database objects, including tables, indexes, and views. This action permanently removes the object and all associated data.\n",
    "\n",
    "\n",
    "### 3. ALTER:\n",
    "\n",
    "The ALTER statement is used to modify the structure of an existing database object. It can be used to add, modify, or delete columns, constraints, or indexes in a table.\n",
    "\n",
    "### 4. TRUNCATE:\n",
    "\n",
    "The TRUNCATE statement is used to quickly delete all rows from a table, but it retains the table structure. It is faster than the DELETE statement for removing all data from a table.\n"
   ]
  },
  {
   "cell_type": "code",
   "execution_count": null,
   "id": "4c1e99c1-fc00-4f49-b686-ed114f08fd8f",
   "metadata": {},
   "outputs": [],
   "source": []
  },
  {
   "cell_type": "markdown",
   "id": "7da76ff8-343a-4192-96cb-e32968929e7d",
   "metadata": {},
   "source": [
    "Q3. What is DML? Explain INSERT, UPDATE, and DELETE with an example\n",
    " \n",
    "\n",
    "### Answer 3 :"
   ]
  },
  {
   "cell_type": "markdown",
   "id": "7a6d5ef9-0035-455d-8782-d56149ddc6d3",
   "metadata": {},
   "source": [
    "DML stands for Data Manipulation Language, which is a subset of SQL (Structured Query Language) used for interacting with and manipulating data stored in a database. DML statements are used to insert, update, retrieve, and delete data from database tables. Here are explanations and examples for some common DML statements:"
   ]
  },
  {
   "cell_type": "markdown",
   "id": "cfa84f8a-d4f4-46fe-ac91-bb4cd6c3fda8",
   "metadata": {},
   "source": [
    "### 1. INSERT:\n",
    "\n",
    "The INSERT statement is used to add new rows of data into a database table.\n",
    "\n",
    "### 2. UPDATE:\n",
    "\n",
    "The UPDATE statement is used to modify existing records in a database table.\n",
    "\n",
    "\n",
    "### 3. DELETE:\n",
    "\n",
    "The DELETE statement is used to remove one or more rows from a database table.\n",
    "\n",
    "\n",
    "## Example for above :"
   ]
  },
  {
   "cell_type": "code",
   "execution_count": 11,
   "id": "2a4315a9-22e1-4f9f-872e-e8a4cc1d874d",
   "metadata": {},
   "outputs": [],
   "source": [
    "# Connect to the database\n",
    "conn = sqlite3.connect('mydb.db')\n",
    "cursor = conn.cursor()\n",
    "\n",
    "# Remove the UNIQUE constraint from the employee_id column\n",
    "cursor.execute('PRAGMA foreign_keys=off')\n",
    "cursor.execute('BEGIN')\n",
    "cursor.execute('CREATE TABLE employees_temp AS SELECT * FROM employees')\n",
    "cursor.execute('DROP TABLE employees')\n",
    "cursor.execute('ALTER TABLE employees_temp RENAME TO employees')\n",
    "cursor.execute('COMMIT')\n",
    "cursor.execute('PRAGMA foreign_keys=on')\n",
    "\n",
    "# Close the connection\n",
    "conn.close()\n"
   ]
  },
  {
   "cell_type": "code",
   "execution_count": null,
   "id": "573ae729-324d-4475-9069-5553110389e6",
   "metadata": {},
   "outputs": [],
   "source": []
  },
  {
   "cell_type": "markdown",
   "id": "9ac10280-e39c-4152-91fc-6b6711ffd45a",
   "metadata": {},
   "source": [
    "Q4. What is DQL? Explain SELECT with an example.\n",
    "\n",
    "\n",
    "### Answer 4 :"
   ]
  },
  {
   "cell_type": "markdown",
   "id": "e16d6411-2ab8-4239-87ed-3a40eedfe1d6",
   "metadata": {},
   "source": [
    "DQL stands for Data Query Language, which is a subset of SQL (Structured Query Language) used for retrieving data from a database. The primary DQL statement is the SELECT statement, which allows you to query and retrieve specific data from one or more tables in a database. Here's an explanation of the SELECT statement with an example:\n",
    "\n",
    "#### SELECT Statement:\n",
    "The SELECT statement is used to retrieve data from a database table or tables. It allows you to specify the columns you want to retrieve and the conditions that must be met for the rows to be included in the result set.\n",
    "\n",
    "### Syntax:"
   ]
  },
  {
   "cell_type": "code",
   "execution_count": 14,
   "id": "76e72742-ffbb-4daf-a19b-31c9964558d9",
   "metadata": {},
   "outputs": [
    {
     "name": "stdout",
     "output_type": "stream",
     "text": [
      "First Name: John\n",
      "Last Name: Doe\n"
     ]
    }
   ],
   "source": [
    "import sqlite3\n",
    "\n",
    "# Connect to an SQLite database (you can replace 'mydb.db' with your database file)\n",
    "conn = sqlite3.connect('mydb.db')\n",
    "\n",
    "# Create a cursor object to interact with the database\n",
    "cursor = conn.cursor()\n",
    "\n",
    "# Execute the SQL SELECT statement\n",
    "select_query = \"SELECT first_name, last_name FROM employees WHERE hire_date > ?\"\n",
    "hire_date_threshold = '2023-01-01'\n",
    "cursor.execute(select_query, (hire_date_threshold,))\n",
    "\n",
    "# Fetch and print the results\n",
    "result = cursor.fetchall()\n",
    "for row in result:\n",
    "    print(\"First Name:\", row[0])\n",
    "    print(\"Last Name:\", row[1])\n",
    "\n",
    "# Close the connection\n",
    "conn.close()\n"
   ]
  },
  {
   "cell_type": "code",
   "execution_count": null,
   "id": "351e3bf9-6e56-4f41-afab-9aeb4de4bd17",
   "metadata": {},
   "outputs": [],
   "source": []
  },
  {
   "cell_type": "markdown",
   "id": "86b564a5-5a1f-405c-85e1-ddca1338f04f",
   "metadata": {},
   "source": [
    "Q5. Explain Primary Key and Foreign Key.\n",
    "\n",
    "\n",
    "### Answer 5:"
   ]
  },
  {
   "cell_type": "markdown",
   "id": "90fd6f03-63a1-42c0-823a-2c4531f1558d",
   "metadata": {},
   "source": [
    "Primary Key and Foreign Key are fundamental concepts in relational databases that define relationships between tables and ensure data integrity.\n",
    "\n",
    "### Primary Key:\n",
    "\n",
    "A Primary Key is a column or set of columns in a database table that uniquely identifies each row or record in that table. It ensures that there are no duplicate or null values in the key column(s).\n",
    "Each table in a relational database should have a Primary Key because it provides a way to uniquely identify and access specific rows.\n",
    "\n",
    "#### Key characteristics of a Primary Key:\n",
    "Uniqueness: No two rows can have the same Primary Key value.\n",
    "Uniqueness ensures data integrity and prevents data duplication.\n",
    "Non-null: The Primary Key value cannot be NULL, meaning every row must have a valid and unique key value.\n",
    "Example: In an \"employees\" table, the \"employee_id\" column could serve as the Primary Key.\n",
    "\n",
    "\n",
    "\n",
    "\n",
    "\n",
    "### Foreign Key:\n",
    "\n",
    "A Foreign Key is a column or set of columns in a table that is used to establish a link or relationship between the data in two tables.\n",
    "It creates a referential integrity constraint, ensuring that the values in the Foreign Key column(s) in one table match the values in the Primary Key column(s) of another table.\n",
    "Foreign Keys are used to enforce data consistency and maintain relationships between tables.\n",
    "\n",
    "#### Key characteristics of a Foreign Key:\n",
    "References a Primary Key: A Foreign Key typically references the Primary Key of another table, defining the relationship between them.\n",
    "Maintains data integrity: It ensures that values in the Foreign Key column(s) of one table correspond to valid Primary Key values in another table.\n",
    "Cascading actions: Foreign Keys can be configured to perform actions (e.g., CASCADE, SET NULL, SET DEFAULT) when referenced rows in the Primary Key table are updated or deleted.\n",
    "Example: In a \"orders\" table, an \"employee_id\" column might serve as a Foreign Key that references the \"employee_id\" Primary Key in the \"employees\" table, establishing a relationship between orders and employees."
   ]
  },
  {
   "cell_type": "code",
   "execution_count": null,
   "id": "e504cb4c-dba5-4d17-b11b-387ee4629dd4",
   "metadata": {},
   "outputs": [],
   "source": []
  },
  {
   "cell_type": "markdown",
   "id": "da9d6f17-f53c-4661-8351-a60254ef037c",
   "metadata": {},
   "source": [
    "Q6. Write a python code to connect MySQL to python. Explain the cursor() and execute() method.\n",
    "\n",
    "\n",
    "### Answer 6 :"
   ]
  },
  {
   "cell_type": "markdown",
   "id": "1f69f93a-27cb-41d4-88bd-d445c6663332",
   "metadata": {},
   "source": [
    "To connect MySQL to Python, you can use the mysql-connector-python library, which allows you to interact with MySQL databases from your Python code. You'll need to install this library if you haven't already using pip install mysql-connector-python.\n",
    "\n",
    "#### Here's a Python code example that demonstrates how to connect to MySQL and use the cursor() and execute() methods:"
   ]
  },
  {
   "cell_type": "code",
   "execution_count": null,
   "id": "2fb93a31-1446-46da-aa44-69023d80b236",
   "metadata": {},
   "outputs": [],
   "source": [
    "import mysql.connector\n",
    "\n",
    "# Establish a connection to the MySQL server\n",
    "try:\n",
    "    connection = mysql.connector.connect(\n",
    "        host='your_host',  # Replace with your MySQL server host\n",
    "        user='your_username',  # Replace with your MySQL username\n",
    "        password='your_password',  # Replace with your MySQL password\n",
    "        database='your_database'  # Replace with your MySQL database name\n",
    "    )\n",
    "\n",
    "    if connection.is_connected():\n",
    "        print(\"Connected to MySQL\")\n",
    "\n",
    "        # Create a cursor object to interact with the database\n",
    "        cursor = connection.cursor()\n",
    "\n",
    "        # Execute SQL queries using the execute() method\n",
    "        cursor.execute(\"SELECT * FROM your_table\")  # Replace with your SQL query\n",
    "\n",
    "        # Fetch and print the results\n",
    "        rows = cursor.fetchall()\n",
    "        for row in rows:\n",
    "            print(row)\n",
    "\n",
    "except mysql.connector.Error as err:\n",
    "    print(f\"Error: {err}\")\n",
    "finally:\n",
    "    if 'connection' in locals() and connection.is_connected():\n",
    "        cursor.close()\n",
    "        connection.close()\n",
    "        print(\"MySQL connection is closed\")\n"
   ]
  },
  {
   "cell_type": "code",
   "execution_count": null,
   "id": "4ba637e8-8e7f-47cf-b333-28f97658f52d",
   "metadata": {},
   "outputs": [],
   "source": []
  },
  {
   "cell_type": "markdown",
   "id": "02b4d942-b105-4a68-9f55-33557bd7b9fe",
   "metadata": {},
   "source": [
    "Q7. Give the order of execution of SQL clauses in an SQL query.\n",
    "\n",
    "### Answer 7 :"
   ]
  },
  {
   "cell_type": "markdown",
   "id": "64aaba38-2d56-44bd-b5d2-ea49430a4916",
   "metadata": {},
   "source": [
    "### In a standard SQL query, the clauses are typically executed in the following order:\n",
    "\n",
    "#### 1. SELECT: \n",
    "The SELECT clause specifies which columns you want to retrieve from the database.\n",
    "\n",
    "#### 2. FROM: \n",
    "The FROM clause indicates the table or tables from which you are retrieving data. If multiple tables are involved (e.g., in a JOIN operation), the order of execution might be influenced by the specific database system's query optimizer.\n",
    "\n",
    "#### 3. JOIN: \n",
    "If your query involves joining multiple tables, the JOIN clause defines how the tables are connected. The database engine combines rows from different tables based on the specified join conditions.\n",
    "\n",
    "#### 4. WHERE: \n",
    "The WHERE clause is used to filter the rows that meet specific criteria. Rows that do not satisfy the conditions specified in the WHERE clause are excluded from the result set.\n",
    "\n",
    "#### 5. GROUP BY: \n",
    "If you want to group rows with similar values in one or more columns, the GROUP BY clause is used. It is often used in conjunction with aggregate functions like COUNT, SUM, AVG, etc., to summarize data within groups.\n",
    "\n",
    "#### 6. HAVING: \n",
    "The HAVING clause filters the results of the GROUP BY operation. It allows you to specify conditions for aggregated values.\n",
    "\n",
    "#### 7. ORDER BY: \n",
    "The ORDER BY clause is used to sort the result set based on one or more columns, either in ascending (ASC) or descending (DESC) order."
   ]
  }
 ],
 "metadata": {
  "kernelspec": {
   "display_name": "Python 3 (ipykernel)",
   "language": "python",
   "name": "python3"
  },
  "language_info": {
   "codemirror_mode": {
    "name": "ipython",
    "version": 3
   },
   "file_extension": ".py",
   "mimetype": "text/x-python",
   "name": "python",
   "nbconvert_exporter": "python",
   "pygments_lexer": "ipython3",
   "version": "3.10.8"
  }
 },
 "nbformat": 4,
 "nbformat_minor": 5
}
