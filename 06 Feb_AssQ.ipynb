{
 "cells": [
  {
   "cell_type": "markdown",
   "id": "e1a9038a-74a8-4b37-a271-055dbc3818f4",
   "metadata": {},
   "source": [
    "## Assignment Data Science Masters (06-FEB-2023) : \n",
    "## aradhyad73@gmail.com\n",
    "## "
   ]
  },
  {
   "cell_type": "markdown",
   "id": "ac0c7ede-1e7a-4cf1-ad71-b0a759a621f2",
   "metadata": {},
   "source": [
    "Q1. Create a function which will take a list as an argument and return the product of all the numbers \n",
    "after creating a flat list.\n",
    "\n",
    "Use the below-given list as an argument for your function.\n",
    "\n",
    "list1 = [1,2,3,4, [44,55,66, True], False, (34,56,78,89,34), {1,2,3,3,2,1}, {1:34, \"key2\": [55, 67, 78, 89], 4: (45, \n",
    "22, 61, 34)}, [56, 'data science'], 'Machine Learning']\n",
    "\n",
    "\n",
    "Note: you must extract numeric keys and values of the dictionary also.\n",
    "\n",
    "### Answer 1 :"
   ]
  },
  {
   "cell_type": "code",
   "execution_count": 2,
   "id": "1d00ce86-5f00-4b2d-a631-7ca4411a323f",
   "metadata": {},
   "outputs": [
    {
     "name": "stdout",
     "output_type": "stream",
     "text": [
      "Product of all numbers in the list: 0\n"
     ]
    }
   ],
   "source": [
    "def calculate_product(numbers):\n",
    "    flat_list = []\n",
    "    \n",
    "    def flatten(lst):\n",
    "        for item in lst:\n",
    "            if isinstance(item, (list, tuple, set)):\n",
    "                flatten(item)\n",
    "            elif isinstance(item, dict):\n",
    "                flatten(item.values())\n",
    "            elif isinstance(item, (int, float)):\n",
    "                flat_list.append(item)\n",
    "    \n",
    "    flatten(numbers)\n",
    "    \n",
    "    product = 1\n",
    "    for num in flat_list:\n",
    "        product *= num\n",
    "    \n",
    "    return product\n",
    "\n",
    "# Test the function\n",
    "list1 = [1, 2, 3, 4, [44, 55, 66, True], False, (34, 56, 78, 89, 34), {1, 2, 3, 3, 2, 1}, {1: 34, \"key2\": [55, 67, 78, 89], 4: (45, 22, 61, 34)}, [56, 'data science'], 'Machine Learning']\n",
    "\n",
    "result = calculate_product(list1)\n",
    "print(\"Product of all numbers in the list:\", result)\n"
   ]
  },
  {
   "cell_type": "code",
   "execution_count": null,
   "id": "68c62090-622f-4f42-affe-5be4a5dd35ea",
   "metadata": {},
   "outputs": [],
   "source": []
  },
  {
   "cell_type": "markdown",
   "id": "97c60df3-08c2-427d-b1b8-bea89f17998a",
   "metadata": {},
   "source": [
    "Q2. Write a python program for encrypting a message sent to you by your friend. The logic of encryption \n",
    "should be such that, for a the output should be z. For b, the output should be y. For c, the output should \n",
    "be x respectively. Also, the whitespace should be replaced with a dollar sign. Keep the punctuation \n",
    "marks unchanged.\n",
    "\n",
    "### Answer 2 :"
   ]
  },
  {
   "cell_type": "code",
   "execution_count": 19,
   "id": "9889a21b-de89-4cbc-ab6d-126de9c7d287",
   "metadata": {},
   "outputs": [
    {
     "name": "stdout",
     "output_type": "stream",
     "text": [
      "Secret Encrypted Message: r$dzmg$gl$yvxlnv$z$wzgz$hxrvmgrhg.\n"
     ]
    }
   ],
   "source": [
    "def encrypt_message(message):\n",
    "    message = message.lower()  # Convert message to lowercase\n",
    "    encrypted = \"\"\n",
    "    for char in message:\n",
    "        if char.isalpha():\n",
    "            offset = ord(char) - ord('a')\n",
    "            encrypted_char = chr(ord('z') - offset)\n",
    "            encrypted += encrypted_char\n",
    "        elif char == ' ':\n",
    "            encrypted += '$'\n",
    "        else:\n",
    "            encrypted += char\n",
    "    \n",
    "    return encrypted\n",
    "\n",
    "# Test the function\n",
    "message = \"I want to become a Data Scientist.\"\n",
    "encrypted_message = encrypt_message(message)\n",
    "print(\"Secret Encrypted Message:\", encrypted_message)\n"
   ]
  }
 ],
 "metadata": {
  "kernelspec": {
   "display_name": "Python 3 (ipykernel)",
   "language": "python",
   "name": "python3"
  },
  "language_info": {
   "codemirror_mode": {
    "name": "ipython",
    "version": 3
   },
   "file_extension": ".py",
   "mimetype": "text/x-python",
   "name": "python",
   "nbconvert_exporter": "python",
   "pygments_lexer": "ipython3",
   "version": "3.10.8"
  }
 },
 "nbformat": 4,
 "nbformat_minor": 5
}
