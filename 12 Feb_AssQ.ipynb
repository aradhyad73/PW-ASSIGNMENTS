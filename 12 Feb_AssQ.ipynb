{
 "cells": [
  {
   "cell_type": "markdown",
   "id": "4949bc8e-5d3c-4ac9-8408-2e14aec6df66",
   "metadata": {},
   "source": [
    "## Assignment Data Science Masters (10-FEB-2023) : \n",
    "## aradhyad73@gmail.com\n",
    "## "
   ]
  },
  {
   "cell_type": "markdown",
   "id": "61427fa5-e5e7-4d00-ad51-e141eabb7780",
   "metadata": {},
   "source": [
    "## Answer 1 :\n",
    "\n",
    "Exceptions are runtime errors that can be handled and recovered from, while syntax errors are compile-time errors that prevent the program from running until the code is corrected. Handling exceptions is a crucial part of writing robust Python programs, as it allows you to gracefully respond to unexpected situations and prevent your program from crashing.\n",
    "\n",
    "#### Key differences between exceptions and syntax errors in Python:\n",
    "\n",
    "### Exceptions:\n",
    "Exceptions occur during runtime, i.e., while the program is running.\n",
    "They are caused by events or conditions that can happen during the execution of the program, such as division by zero, trying to access a non-existent file, or attempting to open a network connection that fails.\n",
    "Exceptions can be handled using try-except blocks, allowing you to gracefully handle errors and continue the program's execution.\n",
    "\n",
    "\n",
    "### Syntax Errors:\n",
    "Syntax errors, also known as parsing errors, occur during the compilation phase before the program is executed.\n",
    "They are caused by mistakes in the program's code structure, such as missing colons, incorrect indentation, or invalid syntax elements.\n",
    "Syntax errors prevent the program from running at all. The code must be fixed before the program can be executed."
   ]
  },
  {
   "cell_type": "code",
   "execution_count": null,
   "id": "70d5af5f-e9c2-4908-b28e-f63732c2d0d5",
   "metadata": {},
   "outputs": [],
   "source": []
  },
  {
   "cell_type": "markdown",
   "id": "0d82ac8d-558a-440d-9ca0-d4b31f793d0c",
   "metadata": {},
   "source": [
    "### Answer 2:\n",
    "\n",
    "When an exception is not handled in a Python program, it leads to the program terminating abruptly, and an error message is displayed, indicating the type of exception that occurred. This can disrupt the normal flow of the program and result in an incomplete or unexpected execution.\n",
    "\n",
    "Let's illustrate this with an example. Consider a program that attempts to divide a number by zero, which raises a ZeroDivisionError exception if not handled:"
   ]
  },
  {
   "cell_type": "code",
   "execution_count": 1,
   "id": "904c6ec9-52e2-434b-bed2-ff43190bb195",
   "metadata": {},
   "outputs": [
    {
     "ename": "ZeroDivisionError",
     "evalue": "division by zero",
     "output_type": "error",
     "traceback": [
      "\u001b[0;31m---------------------------------------------------------------------------\u001b[0m",
      "\u001b[0;31mZeroDivisionError\u001b[0m                         Traceback (most recent call last)",
      "Cell \u001b[0;32mIn[1], line 2\u001b[0m\n\u001b[1;32m      1\u001b[0m \u001b[38;5;66;03m# Attempt to divide a number by zero without handling the exception\u001b[39;00m\n\u001b[0;32m----> 2\u001b[0m result \u001b[38;5;241m=\u001b[39m \u001b[38;5;241;43m10\u001b[39;49m\u001b[43m \u001b[49m\u001b[38;5;241;43m/\u001b[39;49m\u001b[43m \u001b[49m\u001b[38;5;241;43m0\u001b[39;49m\n\u001b[1;32m      3\u001b[0m \u001b[38;5;28mprint\u001b[39m(\u001b[38;5;124m\"\u001b[39m\u001b[38;5;124mResult:\u001b[39m\u001b[38;5;124m\"\u001b[39m, result)\n",
      "\u001b[0;31mZeroDivisionError\u001b[0m: division by zero"
     ]
    }
   ],
   "source": [
    "# Attempt to divide a number by zero without handling the exception\n",
    "result = 10 / 0\n",
    "print(\"Result:\", result)\n"
   ]
  },
  {
   "cell_type": "markdown",
   "id": "d164759c-a0aa-472f-a78c-fc778dcafdd0",
   "metadata": {},
   "source": [
    "To prevent this kind of abrupt termination and to handle exceptions gracefully, you can use a try-except block to catch and handle exceptions. Here's an example of how you can handle the ZeroDivisionError:"
   ]
  },
  {
   "cell_type": "code",
   "execution_count": 2,
   "id": "d6fa1cce-af76-444c-ad3f-d343e7f4b962",
   "metadata": {},
   "outputs": [
    {
     "name": "stdout",
     "output_type": "stream",
     "text": [
      "Error: Division by zero is not allowed.\n"
     ]
    }
   ],
   "source": [
    "try:\n",
    "    result = 10 / 0\n",
    "    print(\"Result:\", result)\n",
    "except ZeroDivisionError:\n",
    "    print(\"Error: Division by zero is not allowed.\")\n"
   ]
  },
  {
   "cell_type": "code",
   "execution_count": null,
   "id": "b3a7603c-ca5c-48dd-8e94-0a03fc283a27",
   "metadata": {},
   "outputs": [],
   "source": []
  },
  {
   "cell_type": "markdown",
   "id": "ad09f3e4-ef9b-4dd2-ada0-005bae905b32",
   "metadata": {},
   "source": [
    "### Answer 3 :\n",
    "\n",
    "In Python, you can use the try and except statements to catch and handle exceptions. The try block contains code that may raise an exception, and the except block specifies how to handle the exception if it occurs. Here's an example to explain the usage of these statements:"
   ]
  },
  {
   "cell_type": "code",
   "execution_count": 4,
   "id": "065195a4-5b43-4d5a-a966-7bfed39c90b9",
   "metadata": {},
   "outputs": [
    {
     "name": "stdin",
     "output_type": "stream",
     "text": [
      "Enter a number:  10\n"
     ]
    },
    {
     "name": "stdout",
     "output_type": "stream",
     "text": [
      "Result: 1.0\n"
     ]
    }
   ],
   "source": [
    "try:\n",
    "    # Code that may raise an exception\n",
    "    num = int(input(\"Enter a number: \"))\n",
    "    result = 10 / num\n",
    "except ZeroDivisionError:\n",
    "    # Handle division by zero\n",
    "    print(\"Error: Division by zero is not allowed.\")\n",
    "except ValueError:\n",
    "    # Handle invalid input (not an integer)\n",
    "    print(\"Error: Please enter a valid integer.\")\n",
    "else:\n",
    "    # Code to run when no exceptions occur\n",
    "    print(\"Result:\", result)\n"
   ]
  },
  {
   "cell_type": "code",
   "execution_count": null,
   "id": "379d15a5-6209-48c0-95a1-fd9c938e9696",
   "metadata": {},
   "outputs": [],
   "source": []
  },
  {
   "cell_type": "markdown",
   "id": "d952f8d3-3f14-4a49-9a8b-84561da31e98",
   "metadata": {
    "tags": []
   },
   "source": [
    "### Answer 4 :\n",
    "\n",
    "### Try block: \n",
    "The try block is used to enclose the code that may raise an exception. It allows you to test a block of code for exceptions.\n",
    "\n",
    "\n",
    "### Else block :\n",
    "The else block is executed if no exceptions are raised in the try block. It is typically used to specify code that should run when no exceptions occur.\n",
    "\n",
    "### Finally block : \n",
    "The finally block is executed regardless of whether an exception occurred or not. It is often used to perform cleanup operations, such as closing files or releasing resources.\n",
    "\n",
    "### Raise statement:\n",
    "The raise statement is used to raise a specific exception manually. This can be useful when you want to create custom exceptions or re-raise exceptions after handling them."
   ]
  },
  {
   "cell_type": "code",
   "execution_count": 3,
   "id": "7f19b0b1-81cb-4f5f-848b-13c85ef1b0ee",
   "metadata": {},
   "outputs": [
    {
     "name": "stdin",
     "output_type": "stream",
     "text": [
      "Enter a number:  20\n"
     ]
    },
    {
     "name": "stdout",
     "output_type": "stream",
     "text": [
      "Result: 0.5\n",
      "Execution completed.\n"
     ]
    }
   ],
   "source": [
    "try:\n",
    "    # Code that may raise an exception\n",
    "    num = int(input(\"Enter a number: \"))\n",
    "    result = 10 / num\n",
    "except ZeroDivisionError:\n",
    "    # Handle division by zero\n",
    "    print(\"Error: Division by zero is not allowed.\")\n",
    "except ValueError:\n",
    "    # Handle invalid input (not an integer)\n",
    "    print(\"Error: Please enter a valid integer.\")\n",
    "else:\n",
    "    # Code to run when no exceptions occur\n",
    "    print(\"Result:\", result)\n",
    "finally:\n",
    "    # Cleanup or final operations (always executed)\n",
    "    print(\"Execution completed.\")\n"
   ]
  },
  {
   "cell_type": "code",
   "execution_count": null,
   "id": "849138e9-e3ab-4c7a-b56b-18e4b2bffbe9",
   "metadata": {},
   "outputs": [],
   "source": []
  },
  {
   "cell_type": "markdown",
   "id": "19f14528-015f-4cb2-8eb4-fbe7bf45624d",
   "metadata": {},
   "source": [
    "### Answer 5 :\n",
    "\n",
    "Custom exceptions in Python are user-defined exceptions that extend or subclass the built-in exception classes. They allow you to create your own exception types to represent specific error conditions or exceptional situations that are relevant to your application. Custom exceptions help in making your code more readable, maintainable, and can simplify error handling by providing more context about the nature of the problem.\n",
    "\n",
    "\n",
    "#### Need custom exceptions :\n",
    "\n",
    "### Semantic Clarity: \n",
    "Custom exceptions make your code more semantically meaningful. When you raise or catch a custom exception, it clearly conveys the nature of the error or exceptional condition, making the code more readable and self-explanatory.\n",
    "\n",
    "### Separation of Concerns: \n",
    "Custom exceptions allow you to separate error-handling logic from the rest of your code. This separation can lead to cleaner and more maintainable code.\n",
    "\n",
    "### Error Hierarchy:\n",
    "By creating a hierarchy of custom exceptions, you can group related exceptions under a common base class, making it easier to catch and handle specific types of errors while still providing a catch-all option."
   ]
  },
  {
   "cell_type": "code",
   "execution_count": 5,
   "id": "68632eb8-0b24-4398-bbd4-cdd953ade477",
   "metadata": {},
   "outputs": [
    {
     "name": "stdout",
     "output_type": "stream",
     "text": [
      "Error: Insufficient balance: Account balance is 1000, but attempted to withdraw 1500\n"
     ]
    }
   ],
   "source": [
    "class InsufficientBalanceError(Exception):\n",
    "    def __init__(self, account_balance, withdrawal_amount):\n",
    "        super().__init__(f\"Insufficient balance: Account balance is {account_balance}, but attempted to withdraw {withdrawal_amount}\")\n",
    "\n",
    "def withdraw(account_balance, withdrawal_amount):\n",
    "    if withdrawal_amount > account_balance:\n",
    "        raise InsufficientBalanceError(account_balance, withdrawal_amount)\n",
    "    else:\n",
    "        account_balance -= withdrawal_amount\n",
    "        print(f\"Withdrew {withdrawal_amount}. New balance: {account_balance}\")\n",
    "\n",
    "try:\n",
    "    account_balance = 1000\n",
    "    withdrawal_amount = 1500\n",
    "    withdraw(account_balance, withdrawal_amount)\n",
    "except InsufficientBalanceError as e:\n",
    "    print(f\"Error: {e}\")\n"
   ]
  }
 ],
 "metadata": {
  "kernelspec": {
   "display_name": "Python 3 (ipykernel)",
   "language": "python",
   "name": "python3"
  },
  "language_info": {
   "codemirror_mode": {
    "name": "ipython",
    "version": 3
   },
   "file_extension": ".py",
   "mimetype": "text/x-python",
   "name": "python",
   "nbconvert_exporter": "python",
   "pygments_lexer": "ipython3",
   "version": "3.10.8"
  }
 },
 "nbformat": 4,
 "nbformat_minor": 5
}
