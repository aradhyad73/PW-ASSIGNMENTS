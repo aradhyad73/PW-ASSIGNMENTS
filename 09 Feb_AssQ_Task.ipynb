{
 "cells": [
  {
   "cell_type": "markdown",
   "id": "155a7ba1-9d66-4efe-a70e-b5f54aef633f",
   "metadata": {},
   "source": [
    "## Assignment Data Science Masters (09-FEB-2023) : \n",
    "## aradhyad73@gmail.com\n",
    "## "
   ]
  },
  {
   "cell_type": "markdown",
   "id": "542045b5-effb-43e3-b0d2-b5b50a99c382",
   "metadata": {},
   "source": [
    "Q1, Create a vehicle class with an init method having instance variables as name_of_vehicle, max_speed \n",
    "and average_of_vehicle. \n",
    "\n",
    "### Answer 1 :"
   ]
  },
  {
   "cell_type": "code",
   "execution_count": 1,
   "id": "c6098751-e611-4040-97c1-70a750ec09b1",
   "metadata": {},
   "outputs": [
    {
     "name": "stdout",
     "output_type": "stream",
     "text": [
      "Car: Max Speed - 200 km/h, Average Speed - 80 km/h\n",
      "Bike: Max Speed - 120 km/h, Average Speed - 40 km/h\n"
     ]
    }
   ],
   "source": [
    "class Vehicle:\n",
    "    def __init__(self, name_of_vehicle, max_speed, average_speed):\n",
    "        self.name_of_vehicle = name_of_vehicle\n",
    "        self.max_speed = max_speed\n",
    "        self.average_speed = average_speed\n",
    "\n",
    "# Creating instances of the Vehicle class\n",
    "car = Vehicle(\"Car\", 200, 80)\n",
    "bike = Vehicle(\"Bike\", 120, 40)\n",
    "\n",
    "# Accessing instance variables\n",
    "print(f\"{car.name_of_vehicle}: Max Speed - {car.max_speed} km/h, Average Speed - {car.average_speed} km/h\")\n",
    "print(f\"{bike.name_of_vehicle}: Max Speed - {bike.max_speed} km/h, Average Speed - {bike.average_speed} km/h\")\n"
   ]
  },
  {
   "cell_type": "code",
   "execution_count": null,
   "id": "8f559ece-c03f-4b7b-94d5-25ba12f22feb",
   "metadata": {},
   "outputs": [],
   "source": []
  },
  {
   "cell_type": "markdown",
   "id": "53b7b6cc-462a-47bb-b2ce-d17d0760aa91",
   "metadata": {},
   "source": [
    "Q2.  Create a child class car from the vehicle class created in Que 1, which will inherit the vehicle class. \n",
    "Create a method named seating_capacity which takes capacity as an argument and returns the name of \n",
    "the vehicle and its seating capacity.\n",
    "\n",
    "### Answer 2 :"
   ]
  },
  {
   "cell_type": "code",
   "execution_count": 2,
   "id": "85ca57fb-2824-402f-bf0c-e6f3956e2f75",
   "metadata": {},
   "outputs": [
    {
     "name": "stdout",
     "output_type": "stream",
     "text": [
      "Sedan Car: Max Speed - 180 km/h, Average Speed - 60 km/h\n",
      "Sedan Car has a seating capacity of 5 people\n"
     ]
    }
   ],
   "source": [
    "class Vehicle:\n",
    "    def __init__(self, name_of_vehicle, max_speed, average_speed):\n",
    "        self.name_of_vehicle = name_of_vehicle\n",
    "        self.max_speed = max_speed\n",
    "        self.average_speed = average_speed\n",
    "\n",
    "class Car(Vehicle):\n",
    "    def __init__(self, name_of_vehicle, max_speed, average_speed):\n",
    "        super().__init__(name_of_vehicle, max_speed, average_speed)\n",
    "\n",
    "    def seating_capacity(self, capacity):\n",
    "        return f\"{self.name_of_vehicle} has a seating capacity of {capacity} people\"\n",
    "\n",
    "# Creating an instance of the Car class\n",
    "car = Car(\"Sedan Car\", 180, 60)\n",
    "\n",
    "# Accessing inherited instance variables from the Vehicle class\n",
    "print(f\"{car.name_of_vehicle}: Max Speed - {car.max_speed} km/h, Average Speed - {car.average_speed} km/h\")\n",
    "\n",
    "# Using the method from the Car class\n",
    "capacity = 5\n",
    "print(car.seating_capacity(capacity))\n"
   ]
  },
  {
   "cell_type": "code",
   "execution_count": null,
   "id": "e97a291a-0856-41f5-8801-0ae935834dae",
   "metadata": {},
   "outputs": [],
   "source": []
  },
  {
   "cell_type": "markdown",
   "id": "5b4f01d8-71b3-46f2-adc0-ee762f59b51c",
   "metadata": {},
   "source": [
    "Q3. What is multiple inheritance? Write a python code to demonstrate multiple inheritance.\n",
    "\n",
    "### Answer 3:"
   ]
  },
  {
   "cell_type": "markdown",
   "id": "8b92ef47-c3ba-4a56-a6f1-c27a72ff59a0",
   "metadata": {},
   "source": [
    "Multiple inheritance is a feature in object-oriented programming languages where a class can inherit attributes and methods from more than one parent class. This means that a class can have multiple base classes, and it inherits the properties and behaviors from all of them."
   ]
  },
  {
   "cell_type": "code",
   "execution_count": 3,
   "id": "b3a04c2e-e237-4407-9408-55cbef1d975c",
   "metadata": {},
   "outputs": [
    {
     "name": "stdout",
     "output_type": "stream",
     "text": [
      "Method 1 from Parent1\n",
      "Method 2 from Parent2\n",
      "Method 3 from Child\n"
     ]
    }
   ],
   "source": [
    "class Parent1:\n",
    "    def method1(self):\n",
    "        return \"Method 1 from Parent1\"\n",
    "\n",
    "class Parent2:\n",
    "    def method2(self):\n",
    "        return \"Method 2 from Parent2\"\n",
    "\n",
    "class Child(Parent1, Parent2):\n",
    "    def method3(self):\n",
    "        return \"Method 3 from Child\"\n",
    "\n",
    "# Creating an instance of the Child class\n",
    "child = Child()\n",
    "\n",
    "# Accessing methods from parent classes\n",
    "print(child.method1())  # Method from Parent1\n",
    "print(child.method2())  # Method from Parent2\n",
    "\n",
    "# Accessing method from the Child class\n",
    "print(child.method3())  # Method from Child\n"
   ]
  },
  {
   "cell_type": "code",
   "execution_count": null,
   "id": "d388c20f-d299-4308-914c-e4a43a659eab",
   "metadata": {},
   "outputs": [],
   "source": []
  },
  {
   "cell_type": "markdown",
   "id": "6e833242-cdeb-4376-a005-83940b6bd7ba",
   "metadata": {},
   "source": [
    "Q4. What are getter and setter in python? Create a class and create a getter and a setter method in this \n",
    "class.\n",
    "\n",
    "### Answer 3 :"
   ]
  },
  {
   "cell_type": "markdown",
   "id": "7eb4697f-a595-40b7-848f-63de06dcac94",
   "metadata": {},
   "source": [
    "Getter and setter methods are a way to control the access and modification of class attributes (instance variables) in object-oriented programming. They allow you to encapsulate the internal state of an object and provide a controlled interface for accessing and modifying that state.\n",
    "\n",
    "Getter Method: A getter method is used to retrieve the value of an attribute. It ensures that the attribute is accessed in a controlled manner, allowing you to add logic if needed before returning the value.\n",
    "Setter Method: A setter method is used to set the value of an attribute. It allows you to perform validation or additional operations before assigning a new value to the attribute."
   ]
  },
  {
   "cell_type": "code",
   "execution_count": 5,
   "id": "e9a192d5-cfd6-4664-b877-b8ef680edebc",
   "metadata": {},
   "outputs": [
    {
     "name": "stdout",
     "output_type": "stream",
     "text": [
      "Name: Alice\n",
      "Age: 30\n",
      "Updated Name: Bob\n",
      "Updated Age: 25\n"
     ]
    }
   ],
   "source": [
    "class Person:\n",
    "    def __init__(self, name, age):\n",
    "        self._name = name\n",
    "        self._age = age\n",
    "\n",
    "    # Getter method for name\n",
    "    def get_name(self):\n",
    "        return self._name\n",
    "\n",
    "    # Setter method for name\n",
    "    def set_name(self, name):\n",
    "        if isinstance(name, str):\n",
    "            self._name = name\n",
    "        else:\n",
    "            print(\"Name must be a string.\")\n",
    "\n",
    "    # Getter method for age\n",
    "    def get_age(self):\n",
    "        return self._age\n",
    "\n",
    "    # Setter method for age\n",
    "    def set_age(self, age):\n",
    "        if isinstance(age, int) and age >= 0:\n",
    "            self._age = age\n",
    "        else:\n",
    "            print(\"Age must be a positive integer.\")\n",
    "\n",
    "# Creating an instance of the Person class\n",
    "person = Person(\"Alice\", 30)\n",
    "\n",
    "# Using the getter methods\n",
    "print(\"Name:\", person.get_name())\n",
    "print(\"Age:\", person.get_age())\n",
    "\n",
    "# Using the setter methods\n",
    "person.set_name(\"Bob\")\n",
    "person.set_age(25)\n",
    "\n",
    "# Using the getter methods after setting\n",
    "print(\"Updated Name:\", person.get_name())\n",
    "print(\"Updated Age:\", person.get_age())\n"
   ]
  },
  {
   "cell_type": "code",
   "execution_count": null,
   "id": "4bb7735b-45ae-4a83-b023-3d7bd0b7b847",
   "metadata": {},
   "outputs": [],
   "source": []
  },
  {
   "cell_type": "markdown",
   "id": "bf587a68-e8bf-463c-8c05-7cdf3b520064",
   "metadata": {},
   "source": [
    "Q5.What is method overriding in python? Write a python code to demonstrate method overriding.\n",
    "\n",
    "### Answer 5 :"
   ]
  },
  {
   "cell_type": "markdown",
   "id": "cb7a1b8a-2a8c-4320-9933-deb986bc683f",
   "metadata": {},
   "source": [
    "Method overriding is a concept in object-oriented programming where a subclass provides a specific implementation for a method that is already defined in its superclass. When a subclass overrides a method, it provides its own implementation that is used instead of the implementation in the superclass."
   ]
  },
  {
   "cell_type": "code",
   "execution_count": 6,
   "id": "eddb0ff2-0612-46ff-bcbe-b2503025ab57",
   "metadata": {},
   "outputs": [
    {
     "name": "stdout",
     "output_type": "stream",
     "text": [
      "This is the Parent class\n",
      "This is the Child class\n"
     ]
    }
   ],
   "source": [
    "class Parent:\n",
    "    def show(self):\n",
    "        print(\"This is the Parent class\")\n",
    "\n",
    "class Child(Parent):\n",
    "    def show(self):\n",
    "        print(\"This is the Child class\")\n",
    "\n",
    "# Creating instances\n",
    "parent_obj = Parent()\n",
    "child_obj = Child()\n",
    "\n",
    "# Calling the overridden method\n",
    "parent_obj.show()  # Output: This is the Parent class\n",
    "child_obj.show()   # Output: This is the Child class\n"
   ]
  }
 ],
 "metadata": {
  "kernelspec": {
   "display_name": "Python 3 (ipykernel)",
   "language": "python",
   "name": "python3"
  },
  "language_info": {
   "codemirror_mode": {
    "name": "ipython",
    "version": 3
   },
   "file_extension": ".py",
   "mimetype": "text/x-python",
   "name": "python",
   "nbconvert_exporter": "python",
   "pygments_lexer": "ipython3",
   "version": "3.10.8"
  }
 },
 "nbformat": 4,
 "nbformat_minor": 5
}
