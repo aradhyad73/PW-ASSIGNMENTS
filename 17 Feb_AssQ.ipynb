{
 "cells": [
  {
   "cell_type": "markdown",
   "id": "823b23d8-2807-4b88-a31f-a66c2a905807",
   "metadata": {},
   "source": [
    "## Assignment Data Science Masters (17-FEB-2023) : \n",
    "## aradhyad73@gmail.com\n",
    "## "
   ]
  },
  {
   "cell_type": "markdown",
   "id": "b67a26b6-e6e1-4f54-b333-84cac8e294bf",
   "metadata": {},
   "source": [
    "Q1. What is MongoDB? Explain non-relational databases in short. In which scenarios it is preferred to use \n",
    "MongoDB over SQL databases?\n",
    "\n",
    "\n",
    "### Answer 1 :"
   ]
  },
  {
   "cell_type": "markdown",
   "id": "aa0b5dfc-22b4-484d-9db5-4e0db752b4db",
   "metadata": {},
   "source": [
    "#### MongoDB :\n",
    "\n",
    "MongoDB is a popular open-source NoSQL database management system that is designed for storing, retrieving, and managing large volumes of unstructured or semi-structured data. MongoDB is classified as a NoSQL database because it doesn't rely on the traditional table-based relational database model like SQL databases do. Instead, MongoDB uses a flexible, schema-less document-based data model, where data is stored in JSON-like BSON (Binary JSON) format.\n",
    "\n",
    "#### Non-relational databases :\n",
    "\n",
    "Non-relational databases, often referred to as NoSQL databases, are a category of database management systems that are designed to store and manage data in a way that is different from traditional relational databases (SQL databases)\n",
    "\n",
    "\n",
    "#### MongoDB is preferred over SQL databases in the following scenarios:\n",
    "\n",
    "\n",
    "Unstructured or Semi-Structured Data: MongoDB is well-suited for handling data with varying structures, such as JSON-like documents, log data, sensor data, and content management systems.\n",
    "\n",
    "Scalability and Big Data: MongoDB's horizontal scalability is beneficial when you need to manage large volumes of data or expect rapid data growth.\n",
    "\n",
    "Real-Time Data Processing: MongoDB is suitable for real-time applications like IoT platforms, social media analytics, and mobile apps where low-latency data access is essential.\n",
    "\n",
    "Agile Development: In agile development environments, where requirements change frequently, MongoDB's flexible schema allows for quick adaptations.\n",
    "\n",
    "Geospatial Data: MongoDB provides strong support for geospatial data and is commonly used in applications that require location-based services.\n",
    "\n",
    "Content Management Systems (CMS): CMS platforms benefit from MongoDB's schema-less nature, which allows for easy content storage and retrieval."
   ]
  },
  {
   "cell_type": "code",
   "execution_count": null,
   "id": "7d0ab8b3-ec8b-4964-b42e-b0d46f1f2f31",
   "metadata": {},
   "outputs": [],
   "source": []
  },
  {
   "cell_type": "markdown",
   "id": "1184afef-3977-4021-a2be-9ffd2cd898c8",
   "metadata": {},
   "source": [
    "Q2. State and Explain the features of MongoDB.\n",
    "\n",
    "\n",
    "### Answer 2 :"
   ]
  },
  {
   "cell_type": "markdown",
   "id": "3f8e663f-c77b-43db-acd5-0c4c5cbca39d",
   "metadata": {},
   "source": [
    "MongoDB is a popular NoSQL database management system known for its flexibility and scalability. \n",
    "\n",
    "It offers a range of features that make it suitable for various use cases. Here are some key features of MongoDB:\n",
    "\n",
    "\n",
    "#### Document-Oriented: \n",
    "MongoDB is a document-oriented database, which means it stores data in flexible, JSON-like BSON (Binary JSON) documents. Each document can have a different structure, allowing you to store heterogeneous data in the same collection.\n",
    "\n",
    "#### No Schema Constraints: \n",
    "MongoDB is schema-less, meaning you can change the structure of documents within a collection without affecting other documents. This flexibility is valuable in agile development environments where requirements change frequently.\n",
    "\n",
    "#### Dynamic Schema: \n",
    "MongoDB supports dynamic schemas, so documents within a collection can have different fields. This allows for easy adaptation to evolving data requirements.\n",
    "\n",
    "#### Highly Scalable: \n",
    "MongoDB is designed to scale horizontally, allowing you to distribute data across multiple servers or nodes. This horizontal scaling makes it well-suited for handling large volumes of data and high traffic loads.\n",
    "\n",
    "#### Auto-Sharding: \n",
    "MongoDB provides automatic sharding, allowing you to partition data across multiple servers to support data growth and improve read and write performance."
   ]
  },
  {
   "cell_type": "code",
   "execution_count": null,
   "id": "09cb4b01-668d-4780-8619-2b6961fb352f",
   "metadata": {},
   "outputs": [],
   "source": []
  },
  {
   "cell_type": "markdown",
   "id": "9bed8512-ac4b-4a79-a278-c92f5faff28c",
   "metadata": {},
   "source": [
    "Q3. Write a code to connect MongoDB to Python. Also, create a database and a collection in MongoDB.\n",
    "\n",
    "\n",
    "### Answer 3 :"
   ]
  },
  {
   "cell_type": "markdown",
   "id": "adc9458f-0a3d-4ffc-b40f-6e71e7ff896a",
   "metadata": {},
   "source": [
    "To connect MongoDB to Python, you can use the pymongo library, which is the official MongoDB driver for Python. "
   ]
  },
  {
   "cell_type": "code",
   "execution_count": null,
   "id": "41fb1812-485e-4830-b30f-342b42169739",
   "metadata": {},
   "outputs": [],
   "source": [
    "pip install pymongo\n",
    "import pymongo\n",
    "\n",
    "# Connect to MongoDB (default host and port)\n",
    "client = pymongo.MongoClient(\"mongodb://localhost:27017/\")\n",
    "\n",
    "# Create or access a database (replace 'mydatabase' with your desired database name)\n",
    "db = client[\"mydatabase\"]\n",
    "\n",
    "# Create or access a collection within the database (replace 'mycollection' with your desired collection name)\n",
    "collection = db[\"mycollection\"]\n",
    "\n",
    "# Insert a document into the collection\n",
    "document = {\"name\": \"John\", \"age\": 30, \"city\": \"New York\"}\n",
    "inserted_document = collection.insert_one(document)\n",
    "\n",
    "# Print the ID of the inserted document\n",
    "print(\"Inserted document ID:\", inserted_document.inserted_id)\n"
   ]
  },
  {
   "cell_type": "code",
   "execution_count": null,
   "id": "8859c20a-5f47-4ed8-a20b-f52fe1e973dc",
   "metadata": {},
   "outputs": [],
   "source": []
  },
  {
   "cell_type": "markdown",
   "id": "c9877a4d-6665-4bc6-88fe-44998f4397f9",
   "metadata": {},
   "source": [
    "Q4. Using the database and the collection created in question number 3, write a code to insert one record, \n",
    "and insert many records. Use the find() and find_one() methods to print the inserted record.\n",
    "\n",
    "\n",
    "### Answer 4 :\n"
   ]
  },
  {
   "cell_type": "markdown",
   "id": "f29ca3a5-db94-4f8d-9f01-1dbe0de67187",
   "metadata": {},
   "source": [
    "Here's a Python code example that uses the MongoDB database and collection created in question number 3. It demonstrates how to insert one record, insert many records, and use the find() and find_one() methods to print the inserted records:"
   ]
  },
  {
   "cell_type": "code",
   "execution_count": null,
   "id": "0ebdb5c6-47f2-4a2c-be89-1af953b73585",
   "metadata": {},
   "outputs": [],
   "source": [
    "import pymongo\n",
    "\n",
    "# Connect to MongoDB (default host and port)\n",
    "client = pymongo.MongoClient(\"mongodb://localhost:27017/\")\n",
    "\n",
    "# Access the database and collection\n",
    "db = client[\"mydatabase\"]\n",
    "collection = db[\"mycollection\"]\n",
    "\n",
    "# Insert one record\n",
    "record_one = {\"name\": \"Alice\", \"age\": 25, \"city\": \"Los Angeles\"}\n",
    "inserted_record_one = collection.insert_one(record_one)\n",
    "print(\"Inserted Record ID (One):\", inserted_record_one.inserted_id)\n",
    "\n",
    "# Insert many records\n",
    "records_many = [\n",
    "    {\"name\": \"Bob\", \"age\": 30, \"city\": \"San Francisco\"},\n",
    "    {\"name\": \"Charlie\", \"age\": 35, \"city\": \"New York\"},\n",
    "    {\"name\": \"David\", \"age\": 28, \"city\": \"Chicago\"}\n",
    "]\n",
    "inserted_records_many = collection.insert_many(records_many)\n",
    "print(\"Inserted Records IDs (Many):\", inserted_records_many.inserted_ids)\n",
    "\n",
    "# Find and print one record\n",
    "found_record_one = collection.find_one({\"name\": \"Alice\"})\n",
    "print(\"Found Record (One):\", found_record_one)\n",
    "\n",
    "# Find and print all records\n",
    "all_records = collection.find()\n",
    "print(\"All Records:\")\n",
    "for record in all_records:\n",
    "    print(record)\n",
    "\n",
    "# Close the MongoDB connection\n",
    "client.close()\n"
   ]
  },
  {
   "cell_type": "code",
   "execution_count": null,
   "id": "650883ba-3781-4c14-a871-c785dac05715",
   "metadata": {},
   "outputs": [],
   "source": []
  },
  {
   "cell_type": "markdown",
   "id": "7a2cf994-607f-4b68-bac6-41b0abfded7d",
   "metadata": {},
   "source": [
    "Q5. Explain how you can use the find() method to query the MongoDB database. Write a simple code to \n",
    "demonstrate this.\n",
    "\n",
    "\n",
    "### Answer 5:"
   ]
  },
  {
   "cell_type": "markdown",
   "id": "d538fc9c-498e-4df9-a109-4e9376379010",
   "metadata": {},
   "source": [
    "The find() method in MongoDB is used to query and retrieve documents from a collection based on specified criteria. It returns a cursor to the documents that match the query, allowing you to iterate over the results.\n",
    "\n",
    "Here's how you can use the find() method in MongoDB, along with a simple code example:\n",
    "\n",
    "Syntax of the find() method:"
   ]
  },
  {
   "cell_type": "code",
   "execution_count": null,
   "id": "a78a41ca-f63a-4bb8-8c50-6165b387192f",
   "metadata": {},
   "outputs": [],
   "source": [
    "cursor = collection.find(query, projection)\n",
    "import pymongo\n",
    "\n",
    "# Connect to MongoDB (default host and port)\n",
    "client = pymongo.MongoClient(\"mongodb://localhost:27017/\")\n",
    "\n",
    "# Access the database and collection\n",
    "db = client[\"mydatabase\"]\n",
    "collection = db[\"employees\"]\n",
    "\n",
    "# Define the query to find employees older than 30\n",
    "query = {\"age\": {\"$gt\": 30}}\n",
    "\n",
    "# Use the find() method to retrieve matching documents\n",
    "cursor = collection.find(query)\n",
    "\n",
    "# Iterate over the results and print each document\n",
    "print(\"Employees older than 30:\")\n",
    "for employee in cursor:\n",
    "    print(employee)\n",
    "\n",
    "# Close the MongoDB connection\n",
    "client.close()\n"
   ]
  },
  {
   "cell_type": "code",
   "execution_count": null,
   "id": "ad958d76-e4aa-413c-8e9c-97b7644b68d1",
   "metadata": {},
   "outputs": [],
   "source": []
  },
  {
   "cell_type": "markdown",
   "id": "fcf8b53f-60c8-4259-bf57-0fc6c79e2f46",
   "metadata": {},
   "source": [
    "Q6. Explain the sort() method. Give an example to demonstrate sorting in MongoDB.\n",
    "\n",
    "\n",
    "### Answer 6 :"
   ]
  },
  {
   "cell_type": "markdown",
   "id": "7899d340-07b8-483c-b60a-692d01372ff3",
   "metadata": {},
   "source": [
    "The sort() method in MongoDB is used to specify the order in which documents should be returned in the result set. You can use it to sort documents based on one or more fields in ascending or descending order. The sort() method is often applied in conjunction with the find() method to control the order of the retrieved documents."
   ]
  },
  {
   "cell_type": "code",
   "execution_count": null,
   "id": "a1df42f6-35a2-4bf9-8df6-675c55bcfb4f",
   "metadata": {},
   "outputs": [],
   "source": [
    "cursor = collection.find(query).sort(sort_order)\n",
    "import pymongo\n",
    "\n",
    "# Connect to MongoDB (default host and port)\n",
    "client = pymongo.MongoClient(\"mongodb://localhost:27017/\")\n",
    "\n",
    "# Access the database and collection\n",
    "db = client[\"mydatabase\"]\n",
    "collection = db[\"products\"]\n",
    "\n",
    "# Define the query (optional) and sort order\n",
    "query = {}  # No specific query, fetch all documents\n",
    "sort_order = [(\"price\", pymongo.DESCENDING)]  # Sort by 'price' field in descending order\n",
    "\n",
    "# Use the find() method with sort() to retrieve and sort documents\n",
    "cursor = collection.find(query).sort(sort_order)\n",
    "\n",
    "# Iterate over the results and print each document\n",
    "print(\"Products sorted by price (descending order):\")\n",
    "for product in cursor:\n",
    "    print(product)\n",
    "\n",
    "# Close the MongoDB connection\n",
    "client.close()\n"
   ]
  },
  {
   "cell_type": "code",
   "execution_count": null,
   "id": "035443f7-8203-4fc2-8b52-751ed97359a4",
   "metadata": {},
   "outputs": [],
   "source": []
  },
  {
   "cell_type": "markdown",
   "id": "03fade64-dc4e-4d42-a8c7-26b322d0d774",
   "metadata": {},
   "source": [
    "Q7. Explain why delete_one(), delete_many(), and drop() is used\n",
    "\n",
    "\n",
    "### Answer 7 :"
   ]
  },
  {
   "cell_type": "markdown",
   "id": "773c7114-1a5d-41b4-a4f5-0b808e1b881e",
   "metadata": {},
   "source": [
    "In MongoDB, the delete_one(), delete_many(), and drop() methods are used to remove documents or collections, each serving a distinct purpose:\n",
    "\n",
    "#### delete_one() Method:\n",
    "\n",
    "The delete_one() method is used to remove a single document that matches a specified filter or criteria from a collection.\n",
    "It deletes the first document that matches the filter and then stops, ensuring that only one document is removed.\n",
    "This method is typically used when you want to delete a specific document based on certain conditions.\n",
    "\n",
    "#### delete_many() Method:\n",
    "\n",
    "The delete_many() method is used to remove multiple documents that match a specified filter from a collection.\n",
    "It deletes all documents that match the filter, providing a way to perform bulk document deletions.\n",
    "This method is useful when you need to delete multiple documents that meet specific conditions.\n",
    "\n",
    "#### drop() Method:\n",
    "\n",
    "The drop() method is used to remove an entire collection, effectively deleting all documents and the collection itself.\n",
    "It is a more drastic operation compared to delete_one() and delete_many() because it removes all data within the collection and cannot be used to delete specific documents.\n",
    "This method is typically used when you want to delete an entire collection and all its associated data."
   ]
  }
 ],
 "metadata": {
  "kernelspec": {
   "display_name": "Python 3 (ipykernel)",
   "language": "python",
   "name": "python3"
  },
  "language_info": {
   "codemirror_mode": {
    "name": "ipython",
    "version": 3
   },
   "file_extension": ".py",
   "mimetype": "text/x-python",
   "name": "python",
   "nbconvert_exporter": "python",
   "pygments_lexer": "ipython3",
   "version": "3.10.8"
  }
 },
 "nbformat": 4,
 "nbformat_minor": 5
}
