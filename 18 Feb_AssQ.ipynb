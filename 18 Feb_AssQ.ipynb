{
 "cells": [
  {
   "cell_type": "markdown",
   "id": "8eb41f20-0b91-4ffc-8bd1-ecea72b67e80",
   "metadata": {},
   "source": [
    "## Assignment Data Science Masters (18-FEB-2023) : \n",
    "## aradhyad73@gmail.com\n",
    "## "
   ]
  },
  {
   "cell_type": "markdown",
   "id": "3592591e-4910-448a-9c07-ca34f18ab6d0",
   "metadata": {},
   "source": [
    "Q1. What is an API? Give an example, where an API is used in real life.\n",
    "\n",
    "\n",
    "### Answer 1 :"
   ]
  },
  {
   "cell_type": "markdown",
   "id": "c768268c-6de4-4e38-a0fb-30afb97e80b4",
   "metadata": {},
   "source": [
    "An API, which stands for Application Programming Interface, is a set of rules and protocols that allows different software applications to communicate with each other. It defines the methods and data formats that developers can use to request and exchange information or services between different software systems, components, or platforms.\n",
    "\n",
    "\n",
    "### Here's a real-life example of how an API is used:\n",
    "\n",
    "\n",
    "### 1.Social Media Login: \n",
    "Many websites and apps offer the option to log in or sign up using social media accounts (e.g., \"Log in with Facebook\" or \"Sign up with Google\"). They do this by integrating with the respective social media platform's APIs.\n",
    "\n",
    "### 2.Weather Data: \n",
    "Weather websites and mobile apps often use APIs provided by meteorological services to fetch real-time weather data, forecasts, and radar images to display to users.\n",
    "\n",
    "### 3.Messaging Apps: \n",
    "Messaging apps like WhatsApp and Facebook Messenger offer APIs to developers for creating chatbots or integrating messaging features into other applications."
   ]
  },
  {
   "cell_type": "code",
   "execution_count": null,
   "id": "6bf14d08-3d6e-4104-b23c-89d564c1d3c4",
   "metadata": {},
   "outputs": [],
   "source": []
  },
  {
   "cell_type": "markdown",
   "id": "eb2218a0-b6ab-4ef9-adef-8e33732ab766",
   "metadata": {},
   "source": [
    "Q2. Give advantages and disadvantages of using API.\n",
    "\n",
    "\n",
    "### Answer 2 :"
   ]
  },
  {
   "cell_type": "markdown",
   "id": "699a0035-a6c4-468c-831d-b91d4dfc96c1",
   "metadata": {},
   "source": [
    "## Advantages of Using APIs :\n",
    "\n",
    "### Interoperability: \n",
    "APIs enable different software systems to communicate and work together, facilitating seamless integration between applications and services.\n",
    "\n",
    "### Reusability: \n",
    "APIs allow developers to reuse existing functionality, reducing development time and effort. This can lead to faster development cycles and cost savings.\n",
    "\n",
    "### Scalability: \n",
    "APIs make it easier to scale applications by adding new features or services without major disruptions to existing systems.\n",
    "\n",
    "### Security: \n",
    "APIs can provide controlled access to data and functionality, allowing organizations to define and enforce security policies for their resources.\n",
    "\n",
    "\n",
    "## Disadvantages of APIs :\n",
    "\n",
    "### Dependency: \n",
    "When relying on external APIs, you become dependent on the availability and reliability of the API provider. If the provider experiences downtime or makes changes to their API, it can impact your application.\n",
    "\n",
    "### Limited Control:\n",
    "Using third-party APIs means you have limited control over the underlying functionality. Changes or limitations imposed by the API provider can affect your application's behavior.\n",
    "\n",
    "### Compatibility Issues: \n",
    "APIs may evolve over time, leading to version compatibility issues. Upgrading to a new version of an API may require modifications to your application.\n",
    "\n",
    "### Data Privacy: \n",
    "When integrating with external APIs, you may need to share sensitive data with third-party services. Ensuring data privacy and compliance with regulations can be challenging."
   ]
  },
  {
   "cell_type": "code",
   "execution_count": null,
   "id": "69b191a7-ba0b-4180-ab4a-03c7828db8e8",
   "metadata": {},
   "outputs": [],
   "source": []
  },
  {
   "cell_type": "markdown",
   "id": "f75bad73-7af5-4d3c-9f6d-1f020cfcb955",
   "metadata": {},
   "source": [
    "Q3. What is a Web API? Differentiate between API and Web API.\n",
    "\n",
    "\n",
    "### Answer 3 :"
   ]
  },
  {
   "cell_type": "markdown",
   "id": "df1474df-2801-4a4c-9b08-067128b6d47d",
   "metadata": {},
   "source": [
    "A Web API, short for \"Web Application Programming Interface,\" is a type of API that is specifically designed for use over the internet. It allows different software applications or systems to communicate with each other via HTTP (Hypertext Transfer Protocol) requests and responses. Web APIs enable the exchange of data and services over the web, making them a fundamental component of modern web development and enabling the integration of web-based services.\n",
    "\n",
    "\n",
    "Web APIs are typically used to expose specific functionalities or data from a web server, which can be accessed by client applications, including web browsers, mobile apps, and other web services. They are commonly used for purposes such as retrieving data from a database, performing CRUD (Create, Read, Update, Delete) operations, or interacting with external services, like social media platforms or payment gateways.\n",
    "\n",
    "\n",
    "## Differences between API and Web API:\n",
    "\n",
    "## 1.Scope of Use:\n",
    "\n",
    "### API: \n",
    "The term \"API\" is a broad concept that encompasses various types of interfaces used for communication between software components or systems. APIs can be used for various purposes, including desktop applications, mobile apps, and web applications.\n",
    "### Web API: \n",
    "A Web API is a specific type of API designed for web-based communication. It operates over the internet using HTTP and is primarily used for web and cloud-based services.\n",
    "\n",
    "## 2.Communication Protocol:\n",
    "\n",
    "### API: \n",
    "APIs can use different communication protocols, such as HTTP, WebSocket, RPC (Remote Procedure Call), or even proprietary protocols.\n",
    "### Web API: \n",
    "Web APIs exclusively use the HTTP protocol for communication, making them accessible via standard web URLs (Uniform Resource Locators).\n",
    "\n",
    "## 3.Access Location:\n",
    "\n",
    "### API: \n",
    "APIs can be used for communication between components or systems located on the same machine or within a local network (intranet) as well as over the internet.\n",
    "### Web API: \n",
    "Web APIs are specifically designed for remote access over the internet, allowing clients to access services hosted on remote servers."
   ]
  },
  {
   "cell_type": "code",
   "execution_count": null,
   "id": "c2047b88-8b94-4dfd-9cf3-43ee8166cbd3",
   "metadata": {},
   "outputs": [],
   "source": []
  },
  {
   "cell_type": "markdown",
   "id": "5b1c409b-5fc8-40dc-b6fb-41be8ae7d511",
   "metadata": {},
   "source": [
    "Q4. Explain REST and SOAP Architecture. Mention shortcomings of SOAP\n",
    "\n",
    "\n",
    "### Answer 5 :"
   ]
  },
  {
   "cell_type": "markdown",
   "id": "ef2d9353-b613-4179-92ef-b9adcbcc9c12",
   "metadata": {},
   "source": [
    "## 1.REST (Representational State Transfer) Architecture:\n",
    "\n",
    "REST is an architectural style for designing networked applications, particularly web services, that relies on a stateless, client-server communication model. It is characterized by the following key principles:\n",
    "\n",
    "### Statelessness: \n",
    "RESTful interactions are stateless, meaning each request from a client to a server must contain all the information needed to understand and fulfill the request. There is no session state stored on the server between requests.\n",
    "\n",
    "### Resource-Based: \n",
    "REST models data and functionality as resources, each identified by a unique URL (Uniform Resource Locator). Resources are manipulated using standard HTTP methods, such as GET (retrieve), POST (create), PUT (update), and DELETE (remove).\n",
    "\n",
    "### Uniform Interface: \n",
    "REST APIs have a uniform and consistent interface, which simplifies interactions between clients and servers. This uniformity includes the use of standard HTTP methods, status codes, and well-defined resource URLs.\n",
    "\n",
    "### Representation: \n",
    "Resources can have multiple representations (e.g., JSON, XML, HTML), and clients can choose the representation that best suits their needs. The server can indicate the available representations using content negotiation.\n",
    "\n",
    "\n",
    "## 2.SOAP (Simple Object Access Protocol) Architecture:\n",
    "\n",
    "SOAP is a protocol and architectural style used for exchanging structured information in the implementation of web services. It is characterized by the following:\n",
    "\n",
    "### Message Format: \n",
    "SOAP messages are typically encoded in XML (Extensible Markup Language) and use a strict and well-defined message format. This format includes headers for specifying message routing and processing details.\n",
    "\n",
    "### Transport Protocol Agnostic: \n",
    "SOAP messages can be transported over various communication protocols, including HTTP, SMTP, and more. However, HTTP is the most commonly used transport protocol for SOAP-based web services.\n",
    "\n",
    "### Complexity: \n",
    "SOAP is known for its extensive specifications and complexity, which can make it more challenging to implement and work with compared to simpler protocols like REST."
   ]
  },
  {
   "cell_type": "code",
   "execution_count": null,
   "id": "4ecd3efb-8059-41f4-8335-cac161c7bd1d",
   "metadata": {},
   "outputs": [],
   "source": []
  },
  {
   "cell_type": "markdown",
   "id": "e9102ee3-6a6c-4420-ac4e-1331ca0bf531",
   "metadata": {},
   "source": [
    "Q5. Differentiate between REST and SOAP.\n",
    "\n",
    "\n",
    "### Answer 5 :\n"
   ]
  },
  {
   "cell_type": "markdown",
   "id": "51c9a6c1-bcf6-4a69-89b7-c64d225717c4",
   "metadata": {},
   "source": [
    "### 1. Protocol and Architectural Style:\n",
    "\n",
    "#### REST: \n",
    "REST is an architectural style that relies on existing protocols, primarily HTTP, and is focused on the principles of statelessness, resource-based interactions, and a uniform interface.\n",
    "#### SOAP: \n",
    "SOAP is a protocol with a well-defined message format that can be transported over various protocols, including HTTP, SMTP, and more. It is more rigidly defined and prescriptive in its message structure.\n",
    "\n",
    "\n",
    "### 2. Message Format:\n",
    "\n",
    "#### REST: \n",
    "REST typically uses a variety of data formats, with JSON and XML being the most common. The choice of format is flexible and depends on the client's needs.\n",
    "#### SOAP: \n",
    "SOAP messages are XML-based, with a strict and standardized message format. This format includes headers for routing, security, and other metadata.\n",
    "\n",
    "\n",
    "### 3. Transport Protocol:\n",
    "\n",
    "#### REST: \n",
    "REST primarily uses HTTP as the transport protocol, but it can also work with other protocols if needed. HTTP methods (GET, POST, PUT, DELETE, etc.) are used to interact with resources.\n",
    "#### SOAP: \n",
    "SOAP can be transported over multiple protocols, including HTTP, SMTP, TCP, and more. However, it is most commonly associated with HTTP.\n",
    "\n",
    "\n",
    "### 4. Statelessness:\n",
    "\n",
    "#### REST: \n",
    "REST follows a stateless communication model, where each request from a client to a server must contain all the information needed to understand and fulfill the request. There is no session state stored on the server.\n",
    "#### SOAP: \n",
    "SOAP messages can be designed to support both stateless and stateful interactions, depending on the application's requirements."
   ]
  }
 ],
 "metadata": {
  "kernelspec": {
   "display_name": "Python 3 (ipykernel)",
   "language": "python",
   "name": "python3"
  },
  "language_info": {
   "codemirror_mode": {
    "name": "ipython",
    "version": 3
   },
   "file_extension": ".py",
   "mimetype": "text/x-python",
   "name": "python",
   "nbconvert_exporter": "python",
   "pygments_lexer": "ipython3",
   "version": "3.10.8"
  }
 },
 "nbformat": 4,
 "nbformat_minor": 5
}
